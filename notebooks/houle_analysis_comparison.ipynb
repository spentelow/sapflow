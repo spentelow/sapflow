{
 "cells": [
  {
   "cell_type": "markdown",
   "metadata": {},
   "source": [
    "# Sap flow prediction Ananlysis"
   ]
  },
  {
   "cell_type": "markdown",
   "metadata": {},
   "source": [
    "# Introduction\n",
    "This notebook walks through an analysis of sap flows from maple trees in the US northeast and in Quebec (Canada).  Specifically, the methodology proposed by Houle et al. (2015) is applied to sap flow data made published by Stinson et al. (2019).  The analysis involves predicting whether or not there will be sap collected during a given week using a logistic regression model based on the derived weather features Growing Degree Days (GDD) and freeze-thaw cycles (frthw).  A comparison is made between the precision achieved by Houle et al. (2015) on their original dataset and the current data set using the same modelling parameters."
   ]
  },
  {
   "cell_type": "code",
   "execution_count": 1,
   "metadata": {},
   "outputs": [],
   "source": [
    "# Import required pacakages\n",
    "import numpy as np\n",
    "import pandas as pd\n",
    "import os\n",
    "import altair as alt\n",
    "from vega_datasets import data\n",
    "\n",
    "# Handle large data sets without embedding them in the notebook\n",
    "alt.data_transformers.enable(\"data_server\")\n",
    "alt.renderers.enable('mimetype')\n",
    "\n",
    "from sklearn.linear_model import LogisticRegression\n",
    "from sklearn.model_selection import train_test_split\n",
    "from sklearn.metrics import precision_score"
   ]
  },
  {
   "cell_type": "markdown",
   "metadata": {},
   "source": [
    "# Data Preparation\n",
    "The following code chunk loads the tables which have been created from the data set provided by Stinson et al. (2019) on [ScienceBase](https://www.sciencebase.gov/catalog/item/5d67eacae4b0c4f70cf15be3).  The scripts used to create these tables can be found in the [src](https://github.com/spentelow/sapflow/tree/main/src)."
   ]
  },
  {
   "cell_type": "code",
   "execution_count": 2,
   "metadata": {},
   "outputs": [],
   "source": [
    "# Load sap measurement data\n",
    "norm_path = os.path.join(os.pardir, \"data\", \"processed\", \"stinson2019\", \"norm_tables\")\n",
    "derived_path = os.path.join(os.pardir, \"data\", \"processed\", \"stinson2019\", \"derived_tables\")\n",
    "sap_sugar_df = pd.read_pickle(os.path.join(derived_path, 'sap_sugar_weekly_summary'))\n",
    "\n",
    "# Load freeze/thaw and growing degree data for a given weather station and associate with a sap measurement site\n",
    "gdd_frthw = pd.read_pickle(os.path.join(derived_path,'gdd_frthw'))\n",
    "closest_weather_stn = pd.read_pickle(os.path.join(norm_path, 'closest_weather_stn'))\n",
    "gdd_frthw = gdd_frthw.merge(closest_weather_stn.reset_index(), how = 'left', on= 'stn_id')\n",
    "gdd_frthw = gdd_frthw.set_index('datetime')\n",
    "\n",
    "# Load information on sap measurement sites\n",
    "location = pd.read_pickle(os.path.join(norm_path, 'location'))\n",
    "weather_stn = pd.read_pickle(os.path.join(norm_path, 'weather_stn'))"
   ]
  },
  {
   "cell_type": "markdown",
   "metadata": {},
   "source": [
    "## Locations\n",
    "\n",
    "The following plot shows the location of the study site for the sap data collection along with the NOAA weather station which has been associated with each site for the purposes of this analysis"
   ]
  },
  {
   "cell_type": "code",
   "execution_count": 3,
   "metadata": {},
   "outputs": [
    {
     "data": {
      "application/vnd.vegalite.v4+json": {
       "$schema": "https://vega.github.io/schema/vega-lite/v4.8.1.json",
       "config": {
        "view": {
         "continuousHeight": 300,
         "continuousWidth": 400
        }
       },
       "height": 600,
       "layer": [
        {
         "data": {
          "format": {
           "feature": "countries",
           "type": "topojson"
          },
          "url": "https://cdn.jsdelivr.net/npm/vega-datasets@v1.29.0/data/world-110m.json"
         },
         "mark": {
          "fill": "lightgray",
          "stroke": "white",
          "type": "geoshape"
         }
        },
        {
         "layer": [
          {
           "data": {
            "url": "http://localhost:16508/6a9d51256d2a29de4cd0decf8b1192ae.json"
           },
           "encoding": {
            "latitude": {
             "field": "lat",
             "type": "quantitative"
            },
            "longitude": {
             "field": "lon",
             "type": "quantitative"
            },
            "size": {
             "value": 30
            }
           },
           "mark": "circle"
          },
          {
           "data": {
            "url": "http://localhost:16508/c513c0b4c3b688f35c6391a0c32f9cf9.json"
           },
           "encoding": {
            "latitude": {
             "field": "lat",
             "type": "quantitative"
            },
            "longitude": {
             "field": "lon",
             "type": "quantitative"
            },
            "size": {
             "value": 10
            },
            "text": {
             "field": "long_name",
             "type": "nominal"
            }
           },
           "mark": {
            "align": "left",
            "baseline": "middle",
            "dx": 5,
            "dy": -3,
            "type": "text"
           }
          },
          {
           "data": {
            "url": "http://localhost:16508/42cae4e09c0ea6671d863dd16689fd69.json"
           },
           "encoding": {
            "latitude": {
             "field": "lat",
             "type": "quantitative"
            },
            "longitude": {
             "field": "lon",
             "type": "quantitative"
            },
            "size": {
             "value": 10
            },
            "text": {
             "field": "long_name",
             "type": "nominal"
            }
           },
           "mark": {
            "align": "right",
            "baseline": "middle",
            "dx": -5,
            "dy": -3,
            "type": "text"
           }
          }
         ]
        },
        {
         "layer": [
          {
           "data": {
            "url": "http://localhost:16508/8c78950b0118cef8cf544c8ed8d94bae.json"
           },
           "encoding": {
            "latitude": {
             "field": "lat",
             "type": "quantitative"
            },
            "longitude": {
             "field": "lon",
             "type": "quantitative"
            },
            "size": {
             "value": 10
            }
           },
           "mark": {
            "color": "black",
            "type": "circle"
           }
          },
          {
           "data": {
            "url": "http://localhost:16508/60d275094440541e814b1b75d303a20b.json"
           },
           "encoding": {
            "latitude": {
             "field": "lat",
             "type": "quantitative"
            },
            "longitude": {
             "field": "lon",
             "type": "quantitative"
            },
            "size": {
             "value": 8
            },
            "text": {
             "field": "stn_name",
             "type": "nominal"
            }
           },
           "mark": {
            "align": "left",
            "baseline": "middle",
            "color": "grey",
            "dx": 5,
            "dy": 7,
            "type": "text"
           }
          },
          {
           "data": {
            "url": "http://localhost:16508/ba8d8dd783b7111f02c165e0a55a22a1.json"
           },
           "encoding": {
            "latitude": {
             "field": "lat",
             "type": "quantitative"
            },
            "longitude": {
             "field": "lon",
             "type": "quantitative"
            },
            "size": {
             "value": 8
            },
            "text": {
             "field": "stn_name",
             "type": "nominal"
            }
           },
           "mark": {
            "align": "right",
            "baseline": "middle",
            "color": "grey",
            "dx": -5,
            "dy": 7,
            "type": "text"
           }
          }
         ]
        }
       ],
       "projection": {
        "scale": 1200,
        "translate": [
         2200,
         1100
        ],
        "type": "equirectangular"
       },
       "width": 1000
      },
      "image/png": "[encoded data removed]",
      "text/plain": [
       "<VegaLite 4 object>\n",
       "\n",
       "If you see this message, it means the renderer has not been properly enabled\n",
       "for the frontend that you are using. For more information, see\n",
       "https://altair-viz.github.io/user_guide/troubleshooting.html\n"
      ]
     },
     "execution_count": 3,
     "metadata": {},
     "output_type": "execute_result"
    }
   ],
   "source": [
    "# **TODO**\n",
    "# Get map showing outlines of Canadian Provinces and US States.\n",
    "# **TODO**\n",
    "\n",
    "site_points = alt.Chart(location).mark_circle().encode(\n",
    "    longitude='lon:Q',\n",
    "    latitude='lat:Q',\n",
    "    size=alt.value(30)\n",
    ")\n",
    "\n",
    "site_labels_east = alt.Chart(location[location.lon>-80]).mark_text(\n",
    "    align='left',\n",
    "    baseline='middle',\n",
    "    dx=5,\n",
    "    dy=-3\n",
    ").encode(\n",
    "    longitude='lon:Q',\n",
    "    latitude='lat:Q',\n",
    "    text='long_name',\n",
    "    size= alt.value(10)\n",
    ")\n",
    "\n",
    "site_labels_west = alt.Chart(location[location.lon<=-80]).mark_text(\n",
    "    align='right',\n",
    "    baseline='middle',\n",
    "    dx=-5,\n",
    "    dy=-3\n",
    ").encode(\n",
    "    longitude='lon:Q',\n",
    "    latitude='lat:Q',\n",
    "    text='long_name',\n",
    "    size= alt.value(10)\n",
    ")\n",
    "\n",
    "site_plt = site_points + site_labels_east + site_labels_west\n",
    "\n",
    "# Weather station points and text\n",
    "\n",
    "stn_points = alt.Chart(weather_stn).mark_circle(color='black').encode(\n",
    "    longitude='lon:Q',\n",
    "    latitude='lat:Q',\n",
    "    size=alt.value(10)\n",
    ")\n",
    "\n",
    "stn_labels_east = alt.Chart(weather_stn[weather_stn.lon>-80]).mark_text(\n",
    "    align='left',\n",
    "    baseline='middle',\n",
    "    dx=5,\n",
    "    dy=+7,\n",
    "    color='grey'\n",
    ").encode(\n",
    "    longitude='lon:Q',\n",
    "    latitude='lat:Q',\n",
    "    text='stn_name',\n",
    "    size= alt.value(8)\n",
    ")\n",
    "\n",
    "stn_labels_west = alt.Chart(weather_stn[weather_stn.lon<=-80]).mark_text(\n",
    "    align='right',\n",
    "    baseline='middle',\n",
    "    dx=-5,\n",
    "    dy=+7,\n",
    "    color='grey'\n",
    ").encode(\n",
    "    longitude='lon:Q',\n",
    "    latitude='lat:Q',\n",
    "    text='stn_name',\n",
    "    size= alt.value(8)\n",
    ")\n",
    "\n",
    "stn_plt = stn_points + stn_labels_east + stn_labels_west\n",
    "\n",
    "# states = alt.topo_feature(data.us_10m.url, feature='states')\n",
    "states = alt.topo_feature(data.world_110m.url, 'countries')\n",
    "\n",
    "background = alt.Chart(states).mark_geoshape(\n",
    "    fill='lightgray',\n",
    "    stroke='white'\n",
    ")\n",
    "\n",
    "(background + site_plt + stn_plt).project('equirectangular',\n",
    "                                        scale=1200,\n",
    "                                        translate=[2200, 1100]\n",
    "                                       ).properties(width=1000,height=600)\n"
   ]
  },
  {
   "cell_type": "markdown",
   "metadata": {},
   "source": [
    "## Analysis Table Creation\n",
    "\n",
    "The following code chunk creates a dataframe containing the features required for the prediction model used by Houle et al. (2015).  These features are:\n",
    "* Cumulative Growing Degree Days (GDD)\n",
    "* Cumulative freeze-thaw cycles (frthw)\n",
    "* Whether sap flow occurred during a given week sap flow (0 = no, 1 = yes)\n",
    "\n",
    "More information on these features is provided in the following section.  Additional featuers are also given in the dataframe `full_sap` including the measurement dates and locations."
   ]
  },
  {
   "cell_type": "code",
   "execution_count": 4,
   "metadata": {},
   "outputs": [],
   "source": [
    "# Create a dataframe (`full_sap`) which contains information on both sap flow and the growing degree days and freeze/thaw cycles for all tap/year combinations\n",
    "\n",
    "full_sap = pd.DataFrame(\n",
    "    columns=[\n",
    "        \"tap_id\",\n",
    "        \"date_from\",\n",
    "        \"date_to\",\n",
    "        \"weekly_sugarwt\",\n",
    "        \"weekly_sap\",\n",
    "        \"site\",\n",
    "        \"cumGDD\",\n",
    "        \"cum_frthw\",\n",
    "        \"sap_binary\",\n",
    "    ]\n",
    ")\n",
    "\n",
    "for site in sap_sugar_df.site.unique():\n",
    "    sap_sugar_site = sap_sugar_df[sap_sugar_df.site == site]\n",
    "    for tap in sap_sugar_site.tap_id.unique():\n",
    "        sap_sugar_tap = sap_sugar_site[sap_sugar_site.tap_id == tap]\n",
    "        for year in sap_sugar_tap.date_to.dt.year.unique():\n",
    "            sap_sugar_year = sap_sugar_tap[sap_sugar_tap.date_to.dt.year == year].drop(\n",
    "                columns=[\"site\"]\n",
    "            )\n",
    "\n",
    "            # Merge weather from local station with sap measurements for a given tap and year\n",
    "            sap_sugar_year = sap_sugar_year.merge(\n",
    "                gdd_frthw[(gdd_frthw.site == site) & (gdd_frthw.index.year == year)],\n",
    "                how=\"right\",\n",
    "                left_on=[\"date_to\"],\n",
    "                right_index=True,\n",
    "            )\n",
    "\n",
    "            # Add missing dates, tap_ids to df\n",
    "            sap_sugar_year.loc[:, \"date_from\"] = sap_sugar_year.loc[\n",
    "                :, \"date_to\"\n",
    "            ] - pd.DateOffset(6)\n",
    "            sap_sugar_year[\"weather_datetime\"] = sap_sugar_year.date_to\n",
    "            sap_sugar_year[\"tap_id\"] = sap_sugar_year[\"tap_id\"].fillna(tap)\n",
    "\n",
    "            # Fill in missing 0 values\n",
    "            sap_sugar_year.loc[:, \"weekly_sugarwt\"] = sap_sugar_year.loc[\n",
    "                :, \"weekly_sugarwt\"\n",
    "            ].fillna(0)\n",
    "            sap_sugar_year.loc[:, \"weekly_sap\"] = sap_sugar_year.loc[\n",
    "                :, \"weekly_sap\"\n",
    "            ].fillna(0)\n",
    "\n",
    "            #             # For future implementation\n",
    "            #             # Add total weekly freeze-thaw cycles column (week ending on date 'date_to')\n",
    "            #             sap_sugar_year.loc[:, \"weekly_frthw\"] = sap_sugar_year.loc[:, \"cum_frthw\"] - sap_sugar_year.loc[:, \"cum_frthw\"].shift(6)\n",
    "            sap_sugar_year = sap_sugar_year.rename(columns={'frthw':'cum_frthw'})\n",
    "            \n",
    "\n",
    "            # Create row indicating if there is (1) or is not (0) sap flow in a given week (week ending on 'date_to')\n",
    "            sap_sugar_year[\"sap_binary\"] = sap_sugar_year[\"weekly_sap\"].apply(\n",
    "                lambda x: 0 if ((pd.isnull(x)) | (x == 0)) else 1\n",
    "            )\n",
    "\n",
    "            full_sap = full_sap.append(sap_sugar_year)\n",
    "\n",
    "# Coerce sap_binary column to numpy.int64 for subesquent analyses\n",
    "full_sap.sap_binary = full_sap.sap_binary.astype(\"int\")\n",
    "\n",
    "# Drop columns not used in current analysis and reset index\n",
    "full_sap = full_sap.drop(columns=['weekly_sugarwt', 'weekly_sap','mean_airt'])\n",
    "full_sap.reset_index(inplace=True, drop=True)"
   ]
  },
  {
   "cell_type": "code",
   "execution_count": 5,
   "metadata": {},
   "outputs": [
    {
     "data": {
      "text/html": [
       "<div>\n",
       "<style scoped>\n",
       "    .dataframe tbody tr th:only-of-type {\n",
       "        vertical-align: middle;\n",
       "    }\n",
       "\n",
       "    .dataframe tbody tr th {\n",
       "        vertical-align: top;\n",
       "    }\n",
       "\n",
       "    .dataframe thead th {\n",
       "        text-align: right;\n",
       "    }\n",
       "</style>\n",
       "<table border=\"1\" class=\"dataframe\">\n",
       "  <thead>\n",
       "    <tr style=\"text-align: right;\">\n",
       "      <th></th>\n",
       "      <th>tap_id</th>\n",
       "      <th>date_from</th>\n",
       "      <th>date_to</th>\n",
       "      <th>site</th>\n",
       "      <th>cumGDD</th>\n",
       "      <th>cum_frthw</th>\n",
       "      <th>sap_binary</th>\n",
       "      <th>stn_id</th>\n",
       "      <th>GDD</th>\n",
       "      <th>weather_datetime</th>\n",
       "    </tr>\n",
       "  </thead>\n",
       "  <tbody>\n",
       "    <tr>\n",
       "      <th>0</th>\n",
       "      <td>DOF1A</td>\n",
       "      <td>2013-12-26</td>\n",
       "      <td>2014-01-01</td>\n",
       "      <td>DOF</td>\n",
       "      <td>0.0</td>\n",
       "      <td>0.0</td>\n",
       "      <td>0</td>\n",
       "      <td>726116-94765</td>\n",
       "      <td>0.0</td>\n",
       "      <td>2014-01-01</td>\n",
       "    </tr>\n",
       "    <tr>\n",
       "      <th>1</th>\n",
       "      <td>DOF1A</td>\n",
       "      <td>2013-12-27</td>\n",
       "      <td>2014-01-02</td>\n",
       "      <td>DOF</td>\n",
       "      <td>0.0</td>\n",
       "      <td>0.0</td>\n",
       "      <td>0</td>\n",
       "      <td>726116-94765</td>\n",
       "      <td>0.0</td>\n",
       "      <td>2014-01-02</td>\n",
       "    </tr>\n",
       "    <tr>\n",
       "      <th>2</th>\n",
       "      <td>DOF1A</td>\n",
       "      <td>2013-12-28</td>\n",
       "      <td>2014-01-03</td>\n",
       "      <td>DOF</td>\n",
       "      <td>0.0</td>\n",
       "      <td>0.0</td>\n",
       "      <td>0</td>\n",
       "      <td>726116-94765</td>\n",
       "      <td>0.0</td>\n",
       "      <td>2014-01-03</td>\n",
       "    </tr>\n",
       "    <tr>\n",
       "      <th>3</th>\n",
       "      <td>DOF1A</td>\n",
       "      <td>2013-12-29</td>\n",
       "      <td>2014-01-04</td>\n",
       "      <td>DOF</td>\n",
       "      <td>0.0</td>\n",
       "      <td>0.0</td>\n",
       "      <td>0</td>\n",
       "      <td>726116-94765</td>\n",
       "      <td>0.0</td>\n",
       "      <td>2014-01-04</td>\n",
       "    </tr>\n",
       "    <tr>\n",
       "      <th>4</th>\n",
       "      <td>DOF1A</td>\n",
       "      <td>2013-12-30</td>\n",
       "      <td>2014-01-05</td>\n",
       "      <td>DOF</td>\n",
       "      <td>0.0</td>\n",
       "      <td>0.0</td>\n",
       "      <td>0</td>\n",
       "      <td>726116-94765</td>\n",
       "      <td>0.0</td>\n",
       "      <td>2014-01-05</td>\n",
       "    </tr>\n",
       "  </tbody>\n",
       "</table>\n",
       "</div>"
      ],
      "text/plain": [
       "  tap_id  date_from    date_to site  cumGDD  cum_frthw  sap_binary  \\\n",
       "0  DOF1A 2013-12-26 2014-01-01  DOF     0.0        0.0           0   \n",
       "1  DOF1A 2013-12-27 2014-01-02  DOF     0.0        0.0           0   \n",
       "2  DOF1A 2013-12-28 2014-01-03  DOF     0.0        0.0           0   \n",
       "3  DOF1A 2013-12-29 2014-01-04  DOF     0.0        0.0           0   \n",
       "4  DOF1A 2013-12-30 2014-01-05  DOF     0.0        0.0           0   \n",
       "\n",
       "         stn_id  GDD weather_datetime  \n",
       "0  726116-94765  0.0       2014-01-01  \n",
       "1  726116-94765  0.0       2014-01-02  \n",
       "2  726116-94765  0.0       2014-01-03  \n",
       "3  726116-94765  0.0       2014-01-04  \n",
       "4  726116-94765  0.0       2014-01-05  "
      ]
     },
     "execution_count": 5,
     "metadata": {},
     "output_type": "execute_result"
    }
   ],
   "source": [
    "full_sap.head()"
   ]
  },
  {
   "cell_type": "markdown",
   "metadata": {},
   "source": [
    "# Analysis"
   ]
  },
  {
   "cell_type": "markdown",
   "metadata": {},
   "source": [
    "## Logistic Regression Model\n",
    "\n",
    "Houle et al. (2015) created a logistic regression model to predict the presence or absence of maple syrup production in a given week.  The following linear function was developed based on their measured data:\n",
    "\n",
    "$$ P = -5.09 + 0.722F - 0.014F^2 - 0.07G$$\n",
    "\n",
    "Where:\n",
    "\n",
    "$P$ = Predictor of whether there will or will not be sap flowing in a given week (variable is labelled 'Production' in Houle et al., 2015)\n",
    "\n",
    "$F$ = Cumulative number of freeze/thaw events since the beginning of the year (January 1st).  A freeze/thaw event is counted if the temperature rises above a given threshold ($T_{thresh}$) and drops below it again.  A threshold of 3&deg;C has been used as in Houle et al., 2015.  The temperature measurements used to derive this feature were generally taken every 15 minutes.\n",
    "\n",
    "$G$ = Cumulative number of growing degree days since the beginning of the year (January 1st) using a 5&deg;C base temperature ($T_{base}$).  Each day, the maximum air temperature ($T_{max}$is extracted and, if it is above the $T_{base}$, a value of $T_{base} - T_{max}$ is added to the running total of growing degree days ($G$).\n",
    "\n",
    "Passing $P$ into a sigmoid function and applying a threshold of 0.51, we end up with a prediction of whether there will or will not be sap flow in a given week.\n",
    "\n",
    "$$\\hat{Y} = \\begin{cases}\n",
    "1 & \\text{if} \\ \\frac{1}{1+e^{-P}} \\geq 0.51 \\\\\n",
    "0 & \\text{if} \\ \\frac{1}{1+e^{-P}} < 0.51\n",
    "\\end{cases}\n",
    "$$\n",
    "\n",
    "*Note that in the subsequent tables, $S$ is used to denote the output of the sigmoid function $\\frac{1}{1+e^{-P}}$.*\n",
    "\n",
    "The code chunks below manually compute the predictions of for $P$ for the data provided by Stinson et al. (2019) and stores the full result in a dataframe called `LR_table`.  A summary of the prediction results for each tap and year are stored in `LR_summary` including whether a prediction was a true positive, true negative, false positive, or false negative and the precision of the predictions with respect to weeks when sap flow did occur (`precision_1`) and for weeks when sap flow did not occur (`precision_0`). "
   ]
  },
  {
   "cell_type": "code",
   "execution_count": 6,
   "metadata": {},
   "outputs": [],
   "source": [
    "# Coefficients of linear model created by Houle 2015 and threshold for predicting 'True' for sap flow from logistic function\n",
    "houle_coeff = np.array([-5.09, 0.733, -0.014, -0.07])\n",
    "houle_thresh = 0.51\n",
    "\n",
    "# Create dataframe of parameters required for Houle 2015 analysis\n",
    "LR_table = full_sap[\n",
    "    [\"site\", \"tap_id\", \"date_from\", \"date_to\", \"cum_frthw\", \"cumGDD\", \"sap_binary\"]\n",
    "]\n",
    "LR_table = LR_table.rename(\n",
    "    columns={\"cum_frthw\": \"F\", \"cumGDD\": \"G\", \"sap_binary\": \"Y\"}\n",
    ")\n",
    "\n",
    "LR_table[\"F2\"] = LR_table.F ** 2  # Add F**2 column\n",
    "LR_table[\"bias\"] = 1  # Add bias column\n",
    "\n",
    "\n",
    "# Calculations to generate weekly sapflow predictions based on model by Houle et al., 2015\n",
    "LR_table.loc[:, \"P\"] = LR_table[[\"bias\", \"F\", \"F2\", \"G\"]] @ (houle_coeff)\n",
    "LR_table.loc[:, \"S\"] = 1 / (1 + np.exp(-LR_table[\"P\"])\n",
    ")  # Add intermediate sigmoid output column 'S'\n",
    "LR_table.loc[:, \"Y_hat\"] = (LR_table[\"S\"] > houle_thresh).astype(\n",
    "    \"int\"\n",
    ")  # Threshold determined by Houle 2015\n",
    "\n",
    "\n",
    "LR_table[\"jd\"] = LR_table[\"date_to\"].dt.dayofyear\n",
    "LR_table[\"year\"] = LR_table[\"date_to\"].dt.year\n",
    "\n",
    "# Add columns to count number of true positives, false positives, false negatives, and true negatives\n",
    "LR_table[\"tp\"] = LR_table.apply(\n",
    "    lambda x: 1 if (x.Y == 1 and x.Y_hat == 1) else 0, axis=1\n",
    ")\n",
    "LR_table[\"fp\"] = LR_table.apply(\n",
    "    lambda x: 1 if (x.Y == 0 and x.Y_hat == 1) else 0, axis=1\n",
    ")\n",
    "LR_table[\"fn\"] = LR_table.apply(\n",
    "    lambda x: 1 if (x.Y == 1 and x.Y_hat == 0) else 0, axis=1\n",
    ")\n",
    "LR_table[\"tn\"] = LR_table.apply(\n",
    "    lambda x: 1 if (x.Y == 0 and x.Y_hat == 0) else 0, axis=1\n",
    ")"
   ]
  },
  {
   "cell_type": "code",
   "execution_count": 7,
   "metadata": {},
   "outputs": [
    {
     "data": {
      "text/html": [
       "<div>\n",
       "<style scoped>\n",
       "    .dataframe tbody tr th:only-of-type {\n",
       "        vertical-align: middle;\n",
       "    }\n",
       "\n",
       "    .dataframe tbody tr th {\n",
       "        vertical-align: top;\n",
       "    }\n",
       "\n",
       "    .dataframe thead th {\n",
       "        text-align: right;\n",
       "    }\n",
       "</style>\n",
       "<table border=\"1\" class=\"dataframe\">\n",
       "  <thead>\n",
       "    <tr style=\"text-align: right;\">\n",
       "      <th></th>\n",
       "      <th>site</th>\n",
       "      <th>tap_id</th>\n",
       "      <th>date_from</th>\n",
       "      <th>date_to</th>\n",
       "      <th>F</th>\n",
       "      <th>G</th>\n",
       "      <th>Y</th>\n",
       "      <th>F2</th>\n",
       "      <th>bias</th>\n",
       "      <th>P</th>\n",
       "      <th>S</th>\n",
       "      <th>Y_hat</th>\n",
       "      <th>jd</th>\n",
       "      <th>year</th>\n",
       "      <th>tp</th>\n",
       "      <th>fp</th>\n",
       "      <th>fn</th>\n",
       "      <th>tn</th>\n",
       "    </tr>\n",
       "  </thead>\n",
       "  <tbody>\n",
       "    <tr>\n",
       "      <th>0</th>\n",
       "      <td>DOF</td>\n",
       "      <td>DOF1A</td>\n",
       "      <td>2013-12-26</td>\n",
       "      <td>2014-01-01</td>\n",
       "      <td>0.0</td>\n",
       "      <td>0.0</td>\n",
       "      <td>0</td>\n",
       "      <td>0.0</td>\n",
       "      <td>1</td>\n",
       "      <td>-5.09</td>\n",
       "      <td>0.00612</td>\n",
       "      <td>0</td>\n",
       "      <td>1</td>\n",
       "      <td>2014</td>\n",
       "      <td>0</td>\n",
       "      <td>0</td>\n",
       "      <td>0</td>\n",
       "      <td>1</td>\n",
       "    </tr>\n",
       "    <tr>\n",
       "      <th>1</th>\n",
       "      <td>DOF</td>\n",
       "      <td>DOF1A</td>\n",
       "      <td>2013-12-27</td>\n",
       "      <td>2014-01-02</td>\n",
       "      <td>0.0</td>\n",
       "      <td>0.0</td>\n",
       "      <td>0</td>\n",
       "      <td>0.0</td>\n",
       "      <td>1</td>\n",
       "      <td>-5.09</td>\n",
       "      <td>0.00612</td>\n",
       "      <td>0</td>\n",
       "      <td>2</td>\n",
       "      <td>2014</td>\n",
       "      <td>0</td>\n",
       "      <td>0</td>\n",
       "      <td>0</td>\n",
       "      <td>1</td>\n",
       "    </tr>\n",
       "    <tr>\n",
       "      <th>2</th>\n",
       "      <td>DOF</td>\n",
       "      <td>DOF1A</td>\n",
       "      <td>2013-12-28</td>\n",
       "      <td>2014-01-03</td>\n",
       "      <td>0.0</td>\n",
       "      <td>0.0</td>\n",
       "      <td>0</td>\n",
       "      <td>0.0</td>\n",
       "      <td>1</td>\n",
       "      <td>-5.09</td>\n",
       "      <td>0.00612</td>\n",
       "      <td>0</td>\n",
       "      <td>3</td>\n",
       "      <td>2014</td>\n",
       "      <td>0</td>\n",
       "      <td>0</td>\n",
       "      <td>0</td>\n",
       "      <td>1</td>\n",
       "    </tr>\n",
       "    <tr>\n",
       "      <th>3</th>\n",
       "      <td>DOF</td>\n",
       "      <td>DOF1A</td>\n",
       "      <td>2013-12-29</td>\n",
       "      <td>2014-01-04</td>\n",
       "      <td>0.0</td>\n",
       "      <td>0.0</td>\n",
       "      <td>0</td>\n",
       "      <td>0.0</td>\n",
       "      <td>1</td>\n",
       "      <td>-5.09</td>\n",
       "      <td>0.00612</td>\n",
       "      <td>0</td>\n",
       "      <td>4</td>\n",
       "      <td>2014</td>\n",
       "      <td>0</td>\n",
       "      <td>0</td>\n",
       "      <td>0</td>\n",
       "      <td>1</td>\n",
       "    </tr>\n",
       "    <tr>\n",
       "      <th>4</th>\n",
       "      <td>DOF</td>\n",
       "      <td>DOF1A</td>\n",
       "      <td>2013-12-30</td>\n",
       "      <td>2014-01-05</td>\n",
       "      <td>0.0</td>\n",
       "      <td>0.0</td>\n",
       "      <td>0</td>\n",
       "      <td>0.0</td>\n",
       "      <td>1</td>\n",
       "      <td>-5.09</td>\n",
       "      <td>0.00612</td>\n",
       "      <td>0</td>\n",
       "      <td>5</td>\n",
       "      <td>2014</td>\n",
       "      <td>0</td>\n",
       "      <td>0</td>\n",
       "      <td>0</td>\n",
       "      <td>1</td>\n",
       "    </tr>\n",
       "  </tbody>\n",
       "</table>\n",
       "</div>"
      ],
      "text/plain": [
       "  site tap_id  date_from    date_to    F    G  Y   F2  bias     P        S  \\\n",
       "0  DOF  DOF1A 2013-12-26 2014-01-01  0.0  0.0  0  0.0     1 -5.09  0.00612   \n",
       "1  DOF  DOF1A 2013-12-27 2014-01-02  0.0  0.0  0  0.0     1 -5.09  0.00612   \n",
       "2  DOF  DOF1A 2013-12-28 2014-01-03  0.0  0.0  0  0.0     1 -5.09  0.00612   \n",
       "3  DOF  DOF1A 2013-12-29 2014-01-04  0.0  0.0  0  0.0     1 -5.09  0.00612   \n",
       "4  DOF  DOF1A 2013-12-30 2014-01-05  0.0  0.0  0  0.0     1 -5.09  0.00612   \n",
       "\n",
       "   Y_hat  jd  year  tp  fp  fn  tn  \n",
       "0      0   1  2014   0   0   0   1  \n",
       "1      0   2  2014   0   0   0   1  \n",
       "2      0   3  2014   0   0   0   1  \n",
       "3      0   4  2014   0   0   0   1  \n",
       "4      0   5  2014   0   0   0   1  "
      ]
     },
     "execution_count": 7,
     "metadata": {},
     "output_type": "execute_result"
    }
   ],
   "source": [
    "LR_table.head()"
   ]
  },
  {
   "cell_type": "code",
   "execution_count": 8,
   "metadata": {},
   "outputs": [],
   "source": [
    "# Calculate summary of performance of Houle et al., 2015 model in terms of precision of prediction for weeks with sap flow (`precision_1`) \n",
    "# and prediction of weeks without sap flow (`precision_0`).\n",
    "LR_summary = (\n",
    "    LR_table[[\"site\", \"tap_id\", \"year\", \"tn\", \"fp\", \"fn\", \"tp\"]]\n",
    "    .groupby([\"tap_id\", \"year\", \"site\"])\n",
    "    .sum()\n",
    ")\n",
    "LR_summary[\"precision_1\"] = LR_summary.tp / (LR_summary.tp + LR_summary.fn)\n",
    "LR_summary[\"precision_0\"] = LR_summary.tn / (LR_summary.tn + LR_summary.fp)\n",
    "LR_summary = LR_summary.reset_index()\n",
    "LR_summary = LR_summary.merge(\n",
    "    location.reset_index()[[\"site\", \"short_name\", \"state_province\"]],\n",
    "    on=\"site\",\n",
    "    how=\"left\",\n",
    ")\n",
    "LR_summary[\"loc\"] = LR_summary.short_name + \", \" + LR_summary.state_province"
   ]
  },
  {
   "cell_type": "code",
   "execution_count": 9,
   "metadata": {},
   "outputs": [
    {
     "data": {
      "text/html": [
       "<div>\n",
       "<style scoped>\n",
       "    .dataframe tbody tr th:only-of-type {\n",
       "        vertical-align: middle;\n",
       "    }\n",
       "\n",
       "    .dataframe tbody tr th {\n",
       "        vertical-align: top;\n",
       "    }\n",
       "\n",
       "    .dataframe thead th {\n",
       "        text-align: right;\n",
       "    }\n",
       "</style>\n",
       "<table border=\"1\" class=\"dataframe\">\n",
       "  <thead>\n",
       "    <tr style=\"text-align: right;\">\n",
       "      <th></th>\n",
       "      <th>tap_id</th>\n",
       "      <th>year</th>\n",
       "      <th>site</th>\n",
       "      <th>tn</th>\n",
       "      <th>fp</th>\n",
       "      <th>fn</th>\n",
       "      <th>tp</th>\n",
       "      <th>precision_1</th>\n",
       "      <th>precision_0</th>\n",
       "      <th>short_name</th>\n",
       "      <th>state_province</th>\n",
       "      <th>loc</th>\n",
       "    </tr>\n",
       "  </thead>\n",
       "  <tbody>\n",
       "    <tr>\n",
       "      <th>0</th>\n",
       "      <td>DOF10A</td>\n",
       "      <td>2014</td>\n",
       "      <td>DOF</td>\n",
       "      <td>265</td>\n",
       "      <td>62</td>\n",
       "      <td>21</td>\n",
       "      <td>17</td>\n",
       "      <td>0.447368</td>\n",
       "      <td>0.810398</td>\n",
       "      <td>Dartmouth</td>\n",
       "      <td>NH</td>\n",
       "      <td>Dartmouth, NH</td>\n",
       "    </tr>\n",
       "    <tr>\n",
       "      <th>1</th>\n",
       "      <td>DOF10A</td>\n",
       "      <td>2015</td>\n",
       "      <td>DOF</td>\n",
       "      <td>322</td>\n",
       "      <td>3</td>\n",
       "      <td>4</td>\n",
       "      <td>36</td>\n",
       "      <td>0.900000</td>\n",
       "      <td>0.990769</td>\n",
       "      <td>Dartmouth</td>\n",
       "      <td>NH</td>\n",
       "      <td>Dartmouth, NH</td>\n",
       "    </tr>\n",
       "    <tr>\n",
       "      <th>2</th>\n",
       "      <td>DOF10A</td>\n",
       "      <td>2016</td>\n",
       "      <td>DOF</td>\n",
       "      <td>290</td>\n",
       "      <td>28</td>\n",
       "      <td>32</td>\n",
       "      <td>16</td>\n",
       "      <td>0.333333</td>\n",
       "      <td>0.911950</td>\n",
       "      <td>Dartmouth</td>\n",
       "      <td>NH</td>\n",
       "      <td>Dartmouth, NH</td>\n",
       "    </tr>\n",
       "    <tr>\n",
       "      <th>3</th>\n",
       "      <td>DOF10A</td>\n",
       "      <td>2017</td>\n",
       "      <td>DOF</td>\n",
       "      <td>290</td>\n",
       "      <td>40</td>\n",
       "      <td>14</td>\n",
       "      <td>21</td>\n",
       "      <td>0.600000</td>\n",
       "      <td>0.878788</td>\n",
       "      <td>Dartmouth</td>\n",
       "      <td>NH</td>\n",
       "      <td>Dartmouth, NH</td>\n",
       "    </tr>\n",
       "    <tr>\n",
       "      <th>4</th>\n",
       "      <td>DOF10B</td>\n",
       "      <td>2014</td>\n",
       "      <td>DOF</td>\n",
       "      <td>265</td>\n",
       "      <td>68</td>\n",
       "      <td>21</td>\n",
       "      <td>11</td>\n",
       "      <td>0.343750</td>\n",
       "      <td>0.795796</td>\n",
       "      <td>Dartmouth</td>\n",
       "      <td>NH</td>\n",
       "      <td>Dartmouth, NH</td>\n",
       "    </tr>\n",
       "  </tbody>\n",
       "</table>\n",
       "</div>"
      ],
      "text/plain": [
       "   tap_id  year site   tn  fp  fn  tp  precision_1  precision_0 short_name  \\\n",
       "0  DOF10A  2014  DOF  265  62  21  17     0.447368     0.810398  Dartmouth   \n",
       "1  DOF10A  2015  DOF  322   3   4  36     0.900000     0.990769  Dartmouth   \n",
       "2  DOF10A  2016  DOF  290  28  32  16     0.333333     0.911950  Dartmouth   \n",
       "3  DOF10A  2017  DOF  290  40  14  21     0.600000     0.878788  Dartmouth   \n",
       "4  DOF10B  2014  DOF  265  68  21  11     0.343750     0.795796  Dartmouth   \n",
       "\n",
       "  state_province            loc  \n",
       "0             NH  Dartmouth, NH  \n",
       "1             NH  Dartmouth, NH  \n",
       "2             NH  Dartmouth, NH  \n",
       "3             NH  Dartmouth, NH  \n",
       "4             NH  Dartmouth, NH  "
      ]
     },
     "execution_count": 9,
     "metadata": {},
     "output_type": "execute_result"
    }
   ],
   "source": [
    "LR_summary.head()"
   ]
  },
  {
   "cell_type": "markdown",
   "metadata": {},
   "source": [
    "## Logistic Regression Predictions"
   ]
  },
  {
   "cell_type": "markdown",
   "metadata": {},
   "source": [
    "The following plot illustrates the predictions of the logistic regression model for a single tap ('QC1A' from the Boris/Quebuec site) for a single year (2015).  The plot displays the output of the sigmoid function ($S$) for the values of the linear regression ($P$)  The threshold $S$ value to predict sap in a given week was 0.51 as specified by Houle et al (2015) and is plotted as a dashed black line."
   ]
  },
  {
   "cell_type": "code",
   "execution_count": 10,
   "metadata": {},
   "outputs": [
    {
     "data": {
      "application/vnd.vegalite.v4+json": {
       "$schema": "https://vega.github.io/schema/vega-lite/v4.8.1.json",
       "config": {
        "legend": {
         "labelLimit": 0
        },
        "view": {
         "continuousHeight": 300,
         "continuousWidth": 400
        }
       },
       "height": 500,
       "layer": [
        {
         "data": {
          "url": "http://localhost:16508/65cc2e6ddb7570f4d8d825528b11868a.json"
         },
         "encoding": {
          "fill": {
           "field": "variable",
           "scale": {
            "domain": [
             "Sap observed; sap predicted by LR (tp)",
             "Sap observed; no sap predicted by LR (fn)",
             "No sap observed; no sap predicted by LR (tn)",
             "No sap observed; sap predicted by LR (fp)"
            ],
            "range": [
             "green",
             "red",
             "green",
             "red"
            ]
           },
           "title": "LR Result",
           "type": "nominal"
          },
          "shape": {
           "field": "variable",
           "scale": {
            "domain": [
             "Sap observed; sap predicted by LR (tp)",
             "Sap observed; no sap predicted by LR (fn)",
             "No sap observed; no sap predicted by LR (tn)",
             "No sap observed; sap predicted by LR (fp)"
            ],
            "range": [
             "cross",
             "cross",
             "circle",
             "circle"
            ]
           },
           "type": "nominal"
          },
          "x": {
           "field": "jd",
           "scale": {
            "domain": [
             60,
             150
            ]
           },
           "title": "Day of year",
           "type": "quantitative"
          },
          "y": {
           "field": "S",
           "title": "Sigmoid function output",
           "type": "quantitative"
          }
         },
         "mark": {
          "opacity": 0.8,
          "size": 100,
          "stroke": null,
          "type": "point"
         },
         "selection": {
          "selector001": {
           "bind": "scales",
           "encodings": [
            "x",
            "y"
           ],
           "type": "interval"
          }
         }
        },
        {
         "data": {
          "url": "http://localhost:16508/b628605fc89a5d4df42d52d169e0f6a1.json"
         },
         "encoding": {
          "y": {
           "field": "ht",
           "type": "quantitative"
          }
         },
         "mark": {
          "color": "black",
          "strokeDash": [
           10,
           10
          ],
          "type": "rule"
         }
        }
       ],
       "width": 800
      },
      "image/png": "[encoded data removed]",
      "text/plain": [
       "<VegaLite 4 object>\n",
       "\n",
       "If you see this message, it means the renderer has not been properly enabled\n",
       "for the frontend that you are using. For more information, see\n",
       "https://altair-viz.github.io/user_guide/troubleshooting.html\n"
      ]
     },
     "execution_count": 10,
     "metadata": {},
     "output_type": "execute_result"
    }
   ],
   "source": [
    "# Creates sample plot demonstrating output of sigmoid function over the course of a year.\n",
    "\n",
    "sample_sigmoid = LR_table[\n",
    "    (LR_table.site == \"QC\")\n",
    "    & (LR_table.date_to.dt.year == 2015)\n",
    "    & (LR_table.tap_id == \"QC1A\")\n",
    "]\n",
    "\n",
    "sample_sigmoid = sample_sigmoid.rename(\n",
    "    columns={\n",
    "        \"tn\": \"No sap observed; no sap predicted by LR (tn)\",\n",
    "        \"fp\": \"No sap observed; sap predicted by LR (fp)\",\n",
    "        \"fn\": \"Sap observed; no sap predicted by LR (fn)\",\n",
    "        \"tp\": \"Sap observed; sap predicted by LR (tp)\",\n",
    "    }\n",
    ")\n",
    "\n",
    "sample_sigmoid = (\n",
    "    sample_sigmoid.reset_index()\n",
    "    .melt(\n",
    "        id_vars=\"index\",\n",
    "        value_vars=[\n",
    "            \"Sap observed; sap predicted by LR (tp)\",\n",
    "            \"Sap observed; no sap predicted by LR (fn)\",\n",
    "            \"No sap observed; no sap predicted by LR (tn)\",\n",
    "            \"No sap observed; sap predicted by LR (fp)\",\n",
    "        ],\n",
    "    )\n",
    "    .merge(\n",
    "        sample_sigmoid.reset_index()[[\"index\", \"S\", \"P\", \"Y\", \"Y_hat\", \"jd\"]],\n",
    "        on=\"index\",\n",
    "    )\n",
    ")\n",
    "\n",
    "sample_sigmoid = sample_sigmoid[sample_sigmoid.value == 1]\n",
    "\n",
    "\n",
    "domain_pred = [\n",
    "    \"Sap observed; sap predicted by LR (tp)\",\n",
    "    \"Sap observed; no sap predicted by LR (fn)\",\n",
    "    \"No sap observed; no sap predicted by LR (tn)\",\n",
    "    \"No sap observed; sap predicted by LR (fp)\",\n",
    "]\n",
    "\n",
    "sigmoid_plt = (\n",
    "    alt.Chart(sample_sigmoid)\n",
    "    .mark_point(size=100, stroke=None, opacity=0.8)\n",
    "    .encode(\n",
    "        alt.X(\"jd\", title=\"Day of year\", scale=alt.Scale(domain=[60, 150])),\n",
    "        alt.Y(\"S\", title=\"Sigmoid function output\"),\n",
    "        fill=alt.Fill(\n",
    "            \"variable\",\n",
    "            title=\"LR Result\",\n",
    "            scale=alt.Scale(domain=domain_pred, range=[\"green\", \"red\", \"green\", \"red\"]),\n",
    "        ),\n",
    "        shape=alt.Shape(\n",
    "            \"variable\",\n",
    "            scale=alt.Scale(\n",
    "                domain=domain_pred, range=[\"cross\", \"cross\", \"circle\", \"circle\"]\n",
    "            ),\n",
    "        ),\n",
    "    )\n",
    "    .interactive()\n",
    ")\n",
    "\n",
    "\n",
    "sigmoid_plt = sigmoid_plt + alt.Chart(pd.DataFrame({\"ht\": [houle_thresh]})).mark_rule(\n",
    "    color=\"black\",\n",
    "    strokeDash=[10,10]\n",
    ").encode(y=\"ht\")\n",
    "\n",
    "sigmoid_plt.properties(width=800, height=500).configure_legend(labelLimit=0)"
   ]
  },
  {
   "cell_type": "markdown",
   "metadata": {},
   "source": [
    "## Precision of Predictions\n",
    "The following plot shows the precision of the predictions generated with the model proposed by Houle et al. (2015) for each tap and each year.  Houle et al (2015) stated that, 'The global model accurately predicted 83% of the production weeks and 95% of the non-production weeks.'  Assuming that these values represent the precision with respect to production weeks and with respect to non-production weeks, respectively, these values have been plotted as dashed red lines for reference."
   ]
  },
  {
   "cell_type": "code",
   "execution_count": 11,
   "metadata": {},
   "outputs": [],
   "source": [
    "# Generate plots showing prediction precision by site (red lines for comparison to precision reported by Houle et al., 2015)\n",
    "\n",
    "houle_means = pd.DataFrame({\"prec_1\": [0.83], \"prec_0\": [0.95]})\n",
    "\n",
    "# Create plot of precision for weeks with sap production\n",
    "prec_1_plt = (\n",
    "    alt.Chart(LR_summary)\n",
    "    .mark_boxplot()\n",
    "    .encode(\n",
    "        y=alt.Y(\"precision_1\", title=\"Precision of prediction of weeks with sap flow\"),\n",
    "        x=alt.X(\"loc\", title=\"Site Location\"),\n",
    "        #         color = alt.Color(\"loc\", legend=None)\n",
    "    )\n",
    ")\n",
    "\n",
    "prec_1_plt = prec_1_plt + alt.Chart(houle_means).mark_rule(\n",
    "    color=\"red\", strokeDash=[10, 10]\n",
    ").encode(y=\"prec_1\")\n",
    "\n",
    "# Create plot of precision for weeks without sap production\n",
    "prec_0_plt = (\n",
    "    alt.Chart(LR_summary)\n",
    "    .mark_boxplot()\n",
    "    .encode(\n",
    "        y=alt.Y(\n",
    "            \"precision_0\", title=\"Precision of prediction of weeks without sap flow\"\n",
    "        ),\n",
    "        x=alt.X(\"loc\", title=\"Site Location\"),\n",
    "        #         color = alt.Color(\"loc\", legend=None)\n",
    "    )\n",
    ")\n",
    "prec_0_plt = prec_0_plt + alt.Chart(houle_means).mark_rule(\n",
    "    color=\"red\", strokeDash=[10, 10]\n",
    ").encode(y=\"prec_0\")\n",
    "\n",
    "\n",
    "width = 500"
   ]
  },
  {
   "cell_type": "code",
   "execution_count": 12,
   "metadata": {},
   "outputs": [
    {
     "data": {
      "application/vnd.vegalite.v4+json": {
       "$schema": "https://vega.github.io/schema/vega-lite/v4.8.1.json",
       "config": {
        "view": {
         "continuousHeight": 300,
         "continuousWidth": 400
        }
       },
       "layer": [
        {
         "data": {
          "url": "http://localhost:16508/7f7f1adf35eab0a69b74a555c8fa13a2.json"
         },
         "encoding": {
          "x": {
           "field": "loc",
           "title": "Site Location",
           "type": "nominal"
          },
          "y": {
           "field": "precision_1",
           "title": "Precision of prediction of weeks with sap flow",
           "type": "quantitative"
          }
         },
         "mark": "boxplot"
        },
        {
         "data": {
          "url": "http://localhost:16508/0b413c603de6abb7ee2cbb78f2cf6ff0.json"
         },
         "encoding": {
          "y": {
           "field": "prec_1",
           "type": "quantitative"
          }
         },
         "mark": {
          "color": "red",
          "strokeDash": [
           10,
           10
          ],
          "type": "rule"
         }
        }
       ],
       "width": 500
      },
      "image/png": "[encoded data removed]",
      "text/plain": [
       "<VegaLite 4 object>\n",
       "\n",
       "If you see this message, it means the renderer has not been properly enabled\n",
       "for the frontend that you are using. For more information, see\n",
       "https://altair-viz.github.io/user_guide/troubleshooting.html\n"
      ]
     },
     "execution_count": 12,
     "metadata": {},
     "output_type": "execute_result"
    }
   ],
   "source": [
    "prec_1_plt.properties(width=width)"
   ]
  },
  {
   "cell_type": "code",
   "execution_count": 13,
   "metadata": {},
   "outputs": [
    {
     "data": {
      "application/vnd.vegalite.v4+json": {
       "$schema": "https://vega.github.io/schema/vega-lite/v4.8.1.json",
       "config": {
        "view": {
         "continuousHeight": 300,
         "continuousWidth": 400
        }
       },
       "layer": [
        {
         "data": {
          "url": "http://localhost:16508/7f7f1adf35eab0a69b74a555c8fa13a2.json"
         },
         "encoding": {
          "x": {
           "field": "loc",
           "title": "Site Location",
           "type": "nominal"
          },
          "y": {
           "field": "precision_0",
           "title": "Precision of prediction of weeks without sap flow",
           "type": "quantitative"
          }
         },
         "mark": "boxplot"
        },
        {
         "data": {
          "url": "http://localhost:16508/0b413c603de6abb7ee2cbb78f2cf6ff0.json"
         },
         "encoding": {
          "y": {
           "field": "prec_0",
           "type": "quantitative"
          }
         },
         "mark": {
          "color": "red",
          "strokeDash": [
           10,
           10
          ],
          "type": "rule"
         }
        }
       ],
       "width": 500
      },
      "image/png": "[encoded data removed]",
      "text/plain": [
       "<VegaLite 4 object>\n",
       "\n",
       "If you see this message, it means the renderer has not been properly enabled\n",
       "for the frontend that you are using. For more information, see\n",
       "https://altair-viz.github.io/user_guide/troubleshooting.html\n"
      ]
     },
     "execution_count": 13,
     "metadata": {},
     "output_type": "execute_result"
    }
   ],
   "source": [
    "prec_0_plt.properties(width=width)"
   ]
  },
  {
   "cell_type": "markdown",
   "metadata": {},
   "source": [
    "## Site Specific Logistic Regression\n",
    "Using the same model set up as Houle et al. (2015), separate logistic regression models were fit for each Site to determine the improvement in the model predictions when the model was fit to local data.  The resulting model precisions are plotted against the precision of predictions using the model coefficients suggested by Houle et al. (2015).  Note that the parameters which were fit in these site specific models were the parameters of the regression equation ($\\beta_0, \\beta_1, \\beta_2,$ and $\\beta_3$):\n",
    "\n",
    "$$ P = \\beta_0 + \\beta_1F + \\beta_2F^2 + \\beta_3G$$\n",
    "\n",
    "where Houle et al. (2015) used the following values:\n",
    "$$ \\beta_0 = -5.09 \\\\\n",
    "\\beta_1 = 0.722 \\\\\n",
    "\\beta_2 = -0.014 \\\\\n",
    "\\beta_3 = 0.07$$\n",
    "\n",
    "Note that the features of the model were not adjusted as part of the site-specific refitting.  In particular, the freeze-thaw threshold temperatures and the growing-degree base temperature were not changed from the values used by Houle et al. (2015)."
   ]
  },
  {
   "cell_type": "code",
   "execution_count": 14,
   "metadata": {},
   "outputs": [],
   "source": [
    "log_regs = dict()\n",
    "site_spec_reg_prec = pd.DataFrame(columns=LR_table.site.unique().tolist())\n",
    "test_list = []  # Create list of all test data\n",
    "\n",
    "for site in LR_table.site.unique():\n",
    "    X = LR_table[LR_table.site == site][[\"F\", \"F2\", \"G\"]]\n",
    "    y = np.ravel(LR_table[LR_table.site == site][[\"Y\"]])\n",
    "\n",
    "    X_train, X_test, y_train, y_test = train_test_split(\n",
    "        X,\n",
    "        y,\n",
    "        train_size=0.8,\n",
    "        random_state=123,\n",
    "        stratify=LR_table[LR_table.site == site].tap_id,\n",
    "    )\n",
    "    log_regs[site] = LogisticRegression()\n",
    "    log_regs[site].fit(X_train, y_train)\n",
    "    site_spec_reg_prec[site] = [precision_score(y_test, log_regs[site].predict(X_test))]\n",
    "    \n",
    "    # Populate list of all training data\n",
    "    test_list += X_test.index.to_list()"
   ]
  },
  {
   "cell_type": "code",
   "execution_count": 15,
   "metadata": {},
   "outputs": [],
   "source": [
    "for site in LR_table.site.unique():\n",
    "    LR_table.loc[LR_table.site==site,['_','Y_logreg']] = log_regs[site].predict_proba(LR_table.loc[LR_table.site==site, [\"F\", \"F2\", \"G\"]])\n",
    "\n",
    "# Use same regression threshold as Houle et al. (2015)\n",
    "LR_table.loc[:,'Y_logreg'] = (LR_table.loc[:,'Y_logreg']>houle_thresh).astype('int')\n",
    "LR_table.drop(columns=['_'],inplace=True)"
   ]
  },
  {
   "cell_type": "code",
   "execution_count": 16,
   "metadata": {},
   "outputs": [],
   "source": [
    "# Add columns to count number of true positives, false positives, false negatives, and true negatives\n",
    "LR_table[\"tp_lr\"] = LR_table.apply(\n",
    "    lambda x: 1 if (x.Y == 1 and x.Y_logreg == 1) else 0, axis=1\n",
    ")\n",
    "LR_table[\"fp_lr\"] = LR_table.apply(\n",
    "    lambda x: 1 if (x.Y == 0 and x.Y_logreg == 1) else 0, axis=1\n",
    ")\n",
    "LR_table[\"fn_lr\"] = LR_table.apply(\n",
    "    lambda x: 1 if (x.Y == 1 and x.Y_logreg == 0) else 0, axis=1\n",
    ")\n",
    "LR_table[\"tn_lr\"] = LR_table.apply(\n",
    "    lambda x: 1 if (x.Y == 0 and x.Y_logreg == 0) else 0, axis=1\n",
    ")"
   ]
  },
  {
   "cell_type": "code",
   "execution_count": 17,
   "metadata": {},
   "outputs": [],
   "source": [
    "# Calculate summary of performance of Houle et al., 2015 model in terms of precision of prediction for weeks with sap flow (`precision_1`) \n",
    "# and prediction of weeks without sap flow (`precision_0`).  Only test data is included in the precision values.\n",
    "LR_summary.loc[:,[\"tn_lr\", \"fp_lr\", \"fn_lr\", \"tp_lr\"]] = (\n",
    "    LR_table.loc[test_list,[\"site\", \"tap_id\", \"year\", \"tn_lr\", \"fp_lr\", \"fn_lr\", \"tp_lr\"]]\n",
    "    .groupby([\"tap_id\", \"year\", \"site\"])\n",
    "    .sum()\n",
    ").reset_index()\n",
    "LR_summary[\"precision_1_lr\"] = LR_summary.tp_lr / (LR_summary.tp_lr + LR_summary.fn_lr)\n",
    "LR_summary[\"precision_0_lr\"] = LR_summary.tn_lr / (LR_summary.tn_lr + LR_summary.fp_lr)"
   ]
  },
  {
   "cell_type": "code",
   "execution_count": 18,
   "metadata": {},
   "outputs": [],
   "source": [
    "# Generate plots showing prediction precision by site (red lines for comparison to precision reported by Houle et al., 2015\n",
    "\n",
    "LR_prec = (\n",
    "    LR_summary.reset_index()\n",
    "    .melt(\n",
    "        id_vars=\"index\",\n",
    "        value_vars=[\"precision_1\", \"precision_1_lr\", \"precision_0\", \"precision_0_lr\"],\n",
    "        value_name=\"prec_model\",\n",
    "    )\n",
    "    .merge(LR_summary.reset_index(), on=\"index\")\n",
    ")\n",
    "\n",
    "LR_prec[\"model\"] = np.where(\n",
    "    (LR_prec.variable == \"precision_1\") | (LR_prec.variable == \"precision_0\"),\n",
    "    \"Houle\",\n",
    "    \"Site Specific\",\n",
    ")\n",
    "\n",
    "prec_1_plt_lr = (\n",
    "    alt.Chart(\n",
    "        LR_prec[\n",
    "            (LR_prec[\"variable\"] == \"precision_1\")\n",
    "            | (LR_prec[\"variable\"] == \"precision_1_lr\")\n",
    "        ]\n",
    "    )\n",
    "    .mark_rule(color=\"red\")\n",
    "    .encode(y=\"houle\")\n",
    "    .mark_boxplot()\n",
    "    .encode(\n",
    "        y=alt.Y(\"prec_model\", title=\"Precision of prediction of weeks with sap flow\"),\n",
    "        x=alt.X(\"model\", title=\"Model\"),\n",
    "        color=alt.Color(\"model\", title=\"Model\"),\n",
    "        column=alt.Column(\"site\", title=\"Site\"),\n",
    "    )\n",
    ")\n",
    "\n",
    "prec_0_plt_lr = (\n",
    "    alt.Chart(\n",
    "        LR_prec[\n",
    "            (LR_prec[\"variable\"] == \"precision_0\")\n",
    "            | (LR_prec[\"variable\"] == \"precision_0_lr\")\n",
    "        ]\n",
    "    )\n",
    "    .mark_boxplot()\n",
    "    .encode(\n",
    "        y=alt.Y(\n",
    "            \"prec_model\", title=\"Precision of prediction of weeks with no sap flow\"\n",
    "        ),\n",
    "        x=alt.X(\"model\", title=\"Model\"),\n",
    "        color=alt.Color(\"model\", title=\"Model\"),\n",
    "        column=alt.Column(\"site\", title=\"Site\"),\n",
    "    )\n",
    ")\n",
    "\n",
    "\n",
    "width = 100"
   ]
  },
  {
   "cell_type": "code",
   "execution_count": 19,
   "metadata": {},
   "outputs": [
    {
     "data": {
      "application/vnd.vegalite.v4+json": {
       "$schema": "https://vega.github.io/schema/vega-lite/v4.8.1.json",
       "config": {
        "view": {
         "continuousHeight": 300,
         "continuousWidth": 400
        }
       },
       "data": {
        "url": "http://localhost:16508/51920f64e33558c6cda6d8e09341e9f0.json"
       },
       "encoding": {
        "color": {
         "field": "model",
         "title": "Model",
         "type": "nominal"
        },
        "column": {
         "field": "site",
         "title": "Site",
         "type": "nominal"
        },
        "x": {
         "field": "model",
         "title": "Model",
         "type": "nominal"
        },
        "y": {
         "field": "prec_model",
         "title": "Precision of prediction of weeks with sap flow",
         "type": "quantitative"
        }
       },
       "mark": "boxplot",
       "width": 100
      },
      "image/png": "[encoded data removed]",
      "text/plain": [
       "<VegaLite 4 object>\n",
       "\n",
       "If you see this message, it means the renderer has not been properly enabled\n",
       "for the frontend that you are using. For more information, see\n",
       "https://altair-viz.github.io/user_guide/troubleshooting.html\n"
      ]
     },
     "execution_count": 19,
     "metadata": {},
     "output_type": "execute_result"
    }
   ],
   "source": [
    "prec_1_plt_lr.properties(width=width)"
   ]
  },
  {
   "cell_type": "code",
   "execution_count": 20,
   "metadata": {},
   "outputs": [
    {
     "data": {
      "application/vnd.vegalite.v4+json": {
       "$schema": "https://vega.github.io/schema/vega-lite/v4.8.1.json",
       "config": {
        "view": {
         "continuousHeight": 300,
         "continuousWidth": 400
        }
       },
       "data": {
        "url": "http://localhost:16508/b697b6c536ab9f56c27d20476606da0f.json"
       },
       "encoding": {
        "color": {
         "field": "model",
         "title": "Model",
         "type": "nominal"
        },
        "column": {
         "field": "site",
         "title": "Site",
         "type": "nominal"
        },
        "x": {
         "field": "model",
         "title": "Model",
         "type": "nominal"
        },
        "y": {
         "field": "prec_model",
         "title": "Precision of prediction of weeks with no sap flow",
         "type": "quantitative"
        }
       },
       "mark": "boxplot",
       "width": 100
      },
      "image/png": "[encoded data removed]",
      "text/plain": [
       "<VegaLite 4 object>\n",
       "\n",
       "If you see this message, it means the renderer has not been properly enabled\n",
       "for the frontend that you are using. For more information, see\n",
       "https://altair-viz.github.io/user_guide/troubleshooting.html\n"
      ]
     },
     "execution_count": 20,
     "metadata": {},
     "output_type": "execute_result"
    }
   ],
   "source": [
    "prec_0_plt_lr.properties(width=width)"
   ]
  },
  {
   "cell_type": "markdown",
   "metadata": {},
   "source": [
    "# Results"
   ]
  },
  {
   "cell_type": "markdown",
   "metadata": {},
   "source": [
    "## Overall Precision\n",
    "Houle et al. (2015) stated that their model, 'accurately predicted 83% of the production weeks and 95% of the non-production weeks.'  It is assumed that these values represent the precision with respect to production weeks and with respect to non-production weeks, respectively.  The table below compares the global precision of the model fit by Houle et al. (2015) on their original data, the model fit by Houle et al. (2015) on the data from Stinson et al. (2019), and a series of models fit to each site location using the data from Stinson et al. (2019).  Note that only the training data used to fit the site specific models is  excluded from the precision calculations on the site specific models."
   ]
  },
  {
   "cell_type": "code",
   "execution_count": 21,
   "metadata": {},
   "outputs": [],
   "source": [
    "models = [\"Houle on Stinson Data\", \"Site Specific on Stinson Data\", \"Houle Original\"]\n",
    "precision_type = [\"With Sap\", \"Without\"]\n",
    "\n",
    "column_index = pd.MultiIndex.from_product(\n",
    "    [models, precision_type], names=[\"Model:\", \"Precision for weeks:\"]\n",
    ")\n",
    "overall_prec = pd.DataFrame(\n",
    "    columns=column_index,\n",
    "    index=LR_table.site.unique().tolist(),\n",
    ")\n",
    "overall_prec.index.name = \"Site\"\n",
    "\n",
    "overall_prec.loc[:, (\"Houle on Stinson Data\", \"With Sap\")] = (\n",
    "    LR_summary.groupby([\"site\"]).mean().precision_1\n",
    ")\n",
    "overall_prec.loc[:, (\"Houle on Stinson Data\", \"Without\")] = (\n",
    "    LR_summary.groupby([\"site\"]).mean().precision_0\n",
    ")\n",
    "overall_prec.loc[:, (\"Site Specific on Stinson Data\", \"With Sap\")] = (\n",
    "    LR_summary.groupby([\"site\"]).mean().precision_1_lr\n",
    ")\n",
    "overall_prec.loc[:, (\"Site Specific on Stinson Data\", \"Without\")] = (\n",
    "    LR_summary.groupby([\"site\"]).mean().precision_0_lr\n",
    ")\n",
    "overall_prec.loc[\n",
    "    :, [(\"Houle Original\", \"With Sap\"), (\"Houle Original\", \"Without\")]\n",
    "] = \"\"\n",
    "\n",
    "overall_prec.loc[\"Overall\", :] = [\n",
    "    LR_summary.mean().precision_1,\n",
    "    LR_summary.mean().precision_0,\n",
    "    LR_summary.mean().precision_1_lr,\n",
    "    LR_summary.mean().precision_0_lr,\n",
    "    0.83,\n",
    "    0.95,\n",
    "]"
   ]
  },
  {
   "cell_type": "code",
   "execution_count": 22,
   "metadata": {},
   "outputs": [
    {
     "data": {
      "text/html": [
       "<div>\n",
       "<style scoped>\n",
       "    .dataframe tbody tr th:only-of-type {\n",
       "        vertical-align: middle;\n",
       "    }\n",
       "\n",
       "    .dataframe tbody tr th {\n",
       "        vertical-align: top;\n",
       "    }\n",
       "\n",
       "    .dataframe thead tr th {\n",
       "        text-align: left;\n",
       "    }\n",
       "\n",
       "    .dataframe thead tr:last-of-type th {\n",
       "        text-align: right;\n",
       "    }\n",
       "</style>\n",
       "<table border=\"1\" class=\"dataframe\">\n",
       "  <thead>\n",
       "    <tr>\n",
       "      <th>Model:</th>\n",
       "      <th colspan=\"2\" halign=\"left\">Houle on Stinson Data</th>\n",
       "      <th colspan=\"2\" halign=\"left\">Site Specific on Stinson Data</th>\n",
       "      <th colspan=\"2\" halign=\"left\">Houle Original</th>\n",
       "    </tr>\n",
       "    <tr>\n",
       "      <th>Precision for weeks:</th>\n",
       "      <th>With Sap</th>\n",
       "      <th>Without</th>\n",
       "      <th>With Sap</th>\n",
       "      <th>Without</th>\n",
       "      <th>With Sap</th>\n",
       "      <th>Without</th>\n",
       "    </tr>\n",
       "    <tr>\n",
       "      <th>Site</th>\n",
       "      <th></th>\n",
       "      <th></th>\n",
       "      <th></th>\n",
       "      <th></th>\n",
       "      <th></th>\n",
       "      <th></th>\n",
       "    </tr>\n",
       "  </thead>\n",
       "  <tbody>\n",
       "    <tr>\n",
       "      <th>DOF</th>\n",
       "      <td>0.54</td>\n",
       "      <td>0.89</td>\n",
       "      <td>0.75</td>\n",
       "      <td>0.98</td>\n",
       "      <td></td>\n",
       "      <td></td>\n",
       "    </tr>\n",
       "    <tr>\n",
       "      <th>DR</th>\n",
       "      <td>0.26</td>\n",
       "      <td>0.95</td>\n",
       "      <td>0.32</td>\n",
       "      <td>0.98</td>\n",
       "      <td></td>\n",
       "      <td></td>\n",
       "    </tr>\n",
       "    <tr>\n",
       "      <th>HF</th>\n",
       "      <td>0.71</td>\n",
       "      <td>0.91</td>\n",
       "      <td>0.74</td>\n",
       "      <td>0.97</td>\n",
       "      <td></td>\n",
       "      <td></td>\n",
       "    </tr>\n",
       "    <tr>\n",
       "      <th>INDU</th>\n",
       "      <td>0.76</td>\n",
       "      <td>0.93</td>\n",
       "      <td>0.77</td>\n",
       "      <td>0.95</td>\n",
       "      <td></td>\n",
       "      <td></td>\n",
       "    </tr>\n",
       "    <tr>\n",
       "      <th>QC</th>\n",
       "      <td>0.86</td>\n",
       "      <td>0.97</td>\n",
       "      <td>0.79</td>\n",
       "      <td>0.99</td>\n",
       "      <td></td>\n",
       "      <td></td>\n",
       "    </tr>\n",
       "    <tr>\n",
       "      <th>SMM</th>\n",
       "      <td>0.74</td>\n",
       "      <td>0.88</td>\n",
       "      <td>0.80</td>\n",
       "      <td>0.99</td>\n",
       "      <td></td>\n",
       "      <td></td>\n",
       "    </tr>\n",
       "    <tr>\n",
       "      <th>Overall</th>\n",
       "      <td>0.68</td>\n",
       "      <td>0.92</td>\n",
       "      <td>0.74</td>\n",
       "      <td>0.98</td>\n",
       "      <td>0.83</td>\n",
       "      <td>0.95</td>\n",
       "    </tr>\n",
       "  </tbody>\n",
       "</table>\n",
       "</div>"
      ],
      "text/plain": [
       "Model:               Houle on Stinson Data          \\\n",
       "Precision for weeks:              With Sap Without   \n",
       "Site                                                 \n",
       "DOF                                   0.54    0.89   \n",
       "DR                                    0.26    0.95   \n",
       "HF                                    0.71    0.91   \n",
       "INDU                                  0.76    0.93   \n",
       "QC                                    0.86    0.97   \n",
       "SMM                                   0.74    0.88   \n",
       "Overall                               0.68    0.92   \n",
       "\n",
       "Model:               Site Specific on Stinson Data         Houle Original  \\\n",
       "Precision for weeks:                      With Sap Without       With Sap   \n",
       "Site                                                                        \n",
       "DOF                                           0.75    0.98                  \n",
       "DR                                            0.32    0.98                  \n",
       "HF                                            0.74    0.97                  \n",
       "INDU                                          0.77    0.95                  \n",
       "QC                                            0.79    0.99                  \n",
       "SMM                                           0.80    0.99                  \n",
       "Overall                                       0.74    0.98           0.83   \n",
       "\n",
       "Model:                        \n",
       "Precision for weeks: Without  \n",
       "Site                          \n",
       "DOF                           \n",
       "DR                            \n",
       "HF                            \n",
       "INDU                          \n",
       "QC                            \n",
       "SMM                           \n",
       "Overall                 0.95  "
      ]
     },
     "execution_count": 22,
     "metadata": {},
     "output_type": "execute_result"
    }
   ],
   "source": [
    "overall_prec.round(decimals=2)"
   ]
  },
  {
   "cell_type": "markdown",
   "metadata": {},
   "source": [
    "## Model Comparsion\n",
    "From the table above, we see that the overall precision attained by Houle et al. (2015) on their original data set was not replicated when applying their method to the data sets from Stinson et al. (2019).  In particular, the precision of predicting weeks without sap production was substantially lower (0.68 vs 0.83) when the model was applied to the data from Stinson et al. (2019).  Refitting the regression coefficients for the model to the data sets from each site resulted in some improvement in model performance.  In this case, the site specific models achieved a higher precision of prediction for the weeks without sap production than did the Houle et al. (2015) on the original data set.  The precision of prediction of the weeks with sap production, however, remained lower in the site specific model than in the original work of Houle et al. (2015)."
   ]
  }
 ],
 "metadata": {
  "kernelspec": {
   "display_name": "Python 3",
   "language": "python",
   "name": "python3"
  },
  "language_info": {
   "codemirror_mode": {
    "name": "ipython",
    "version": 3
   },
   "file_extension": ".py",
   "mimetype": "text/x-python",
   "name": "python",
   "nbconvert_exporter": "python",
   "pygments_lexer": "ipython3",
   "version": "3.8.8"
  },
  "toc-autonumbering": true
 },
 "nbformat": 4,
 "nbformat_minor": 4
}
