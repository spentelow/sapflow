{
 "cells": [
  {
   "cell_type": "code",
   "execution_count": 141,
   "metadata": {},
   "outputs": [],
   "source": [
    "import numpy as np\n",
    "import pandas as pd\n",
    "import altair as alt\n",
    "import copy\n",
    "from sklearn.metrics import (\n",
    "    classification_report,\n",
    "    confusion_matrix,\n",
    "    plot_confusion_matrix,\n",
    ")\n",
    "from sklearn.metrics import accuracy_score, precision_score, recall_score, f1_score\n",
    "from sklearn.linear_model import LogisticRegression\n",
    "from sklearn.model_selection import train_test_split"
   ]
  },
  {
   "cell_type": "code",
   "execution_count": 142,
   "metadata": {},
   "outputs": [],
   "source": [
    "sap_sugar_df = pd.read_pickle('../data/processed/stinson2019/sap_sugar_weekly_summary')\n",
    "gdd_frthw = pd.read_pickle('../data/processed/HF_weather/gdd_frthw')\n",
    "gdd_frthw = gdd_frthw.set_index('datetime')"
   ]
  },
  {
   "cell_type": "code",
   "execution_count": 143,
   "metadata": {},
   "outputs": [
    {
     "data": {
      "text/html": [
       "<div>\n",
       "<style scoped>\n",
       "    .dataframe tbody tr th:only-of-type {\n",
       "        vertical-align: middle;\n",
       "    }\n",
       "\n",
       "    .dataframe tbody tr th {\n",
       "        vertical-align: top;\n",
       "    }\n",
       "\n",
       "    .dataframe thead th {\n",
       "        text-align: right;\n",
       "    }\n",
       "</style>\n",
       "<table border=\"1\" class=\"dataframe\">\n",
       "  <thead>\n",
       "    <tr style=\"text-align: right;\">\n",
       "      <th></th>\n",
       "      <th>date_from</th>\n",
       "      <th>date_to</th>\n",
       "      <th>weekly_sugarwt</th>\n",
       "      <th>weekly_sap</th>\n",
       "      <th>site</th>\n",
       "      <th>cum_GDD</th>\n",
       "      <th>weekly_frthw</th>\n",
       "      <th>sap_binary</th>\n",
       "    </tr>\n",
       "  </thead>\n",
       "  <tbody>\n",
       "    <tr>\n",
       "      <th>0</th>\n",
       "      <td>2014-03-11</td>\n",
       "      <td>2014-03-17</td>\n",
       "      <td>0.000543</td>\n",
       "      <td>0.04</td>\n",
       "      <td>DARTMOUTH ORGANIC FARM</td>\n",
       "      <td>4.870715</td>\n",
       "      <td>4.5</td>\n",
       "      <td>1</td>\n",
       "    </tr>\n",
       "    <tr>\n",
       "      <th>1</th>\n",
       "      <td>2014-03-12</td>\n",
       "      <td>2014-03-18</td>\n",
       "      <td>0.000183</td>\n",
       "      <td>0.01</td>\n",
       "      <td>DARTMOUTH ORGANIC FARM</td>\n",
       "      <td>4.870715</td>\n",
       "      <td>2.0</td>\n",
       "      <td>1</td>\n",
       "    </tr>\n",
       "    <tr>\n",
       "      <th>2</th>\n",
       "      <td>2014-03-13</td>\n",
       "      <td>2014-03-19</td>\n",
       "      <td>0.000183</td>\n",
       "      <td>0.01</td>\n",
       "      <td>DARTMOUTH ORGANIC FARM</td>\n",
       "      <td>4.870715</td>\n",
       "      <td>3.0</td>\n",
       "      <td>1</td>\n",
       "    </tr>\n",
       "    <tr>\n",
       "      <th>3</th>\n",
       "      <td>2014-03-14</td>\n",
       "      <td>2014-03-20</td>\n",
       "      <td>0.000183</td>\n",
       "      <td>0.01</td>\n",
       "      <td>DARTMOUTH ORGANIC FARM</td>\n",
       "      <td>4.870715</td>\n",
       "      <td>4.0</td>\n",
       "      <td>1</td>\n",
       "    </tr>\n",
       "    <tr>\n",
       "      <th>4</th>\n",
       "      <td>2014-03-15</td>\n",
       "      <td>2014-03-21</td>\n",
       "      <td>0.000183</td>\n",
       "      <td>0.01</td>\n",
       "      <td>DARTMOUTH ORGANIC FARM</td>\n",
       "      <td>4.870715</td>\n",
       "      <td>3.0</td>\n",
       "      <td>1</td>\n",
       "    </tr>\n",
       "    <tr>\n",
       "      <th>...</th>\n",
       "      <td>...</td>\n",
       "      <td>...</td>\n",
       "      <td>...</td>\n",
       "      <td>...</td>\n",
       "      <td>...</td>\n",
       "      <td>...</td>\n",
       "      <td>...</td>\n",
       "      <td>...</td>\n",
       "    </tr>\n",
       "    <tr>\n",
       "      <th>18278</th>\n",
       "      <td>2016-02-27</td>\n",
       "      <td>2016-03-04</td>\n",
       "      <td>0.731130</td>\n",
       "      <td>34.63</td>\n",
       "      <td>SOUTHERNMOST MAPLE</td>\n",
       "      <td>10.622917</td>\n",
       "      <td>5.0</td>\n",
       "      <td>1</td>\n",
       "    </tr>\n",
       "    <tr>\n",
       "      <th>18279</th>\n",
       "      <td>2016-02-28</td>\n",
       "      <td>2016-03-05</td>\n",
       "      <td>0.731130</td>\n",
       "      <td>34.63</td>\n",
       "      <td>SOUTHERNMOST MAPLE</td>\n",
       "      <td>10.622917</td>\n",
       "      <td>4.5</td>\n",
       "      <td>1</td>\n",
       "    </tr>\n",
       "    <tr>\n",
       "      <th>18280</th>\n",
       "      <td>2016-02-29</td>\n",
       "      <td>2016-03-06</td>\n",
       "      <td>0.720000</td>\n",
       "      <td>36.53</td>\n",
       "      <td>SOUTHERNMOST MAPLE</td>\n",
       "      <td>10.622917</td>\n",
       "      <td>5.5</td>\n",
       "      <td>1</td>\n",
       "    </tr>\n",
       "    <tr>\n",
       "      <th>18281</th>\n",
       "      <td>2016-03-01</td>\n",
       "      <td>2016-03-07</td>\n",
       "      <td>0.556020</td>\n",
       "      <td>27.42</td>\n",
       "      <td>SOUTHERNMOST MAPLE</td>\n",
       "      <td>10.622917</td>\n",
       "      <td>4.0</td>\n",
       "      <td>1</td>\n",
       "    </tr>\n",
       "    <tr>\n",
       "      <th>18282</th>\n",
       "      <td>2016-03-02</td>\n",
       "      <td>2016-03-08</td>\n",
       "      <td>0.774360</td>\n",
       "      <td>39.55</td>\n",
       "      <td>SOUTHERNMOST MAPLE</td>\n",
       "      <td>12.283333</td>\n",
       "      <td>3.5</td>\n",
       "      <td>1</td>\n",
       "    </tr>\n",
       "  </tbody>\n",
       "</table>\n",
       "<p>18283 rows × 8 columns</p>\n",
       "</div>"
      ],
      "text/plain": [
       "       date_from    date_to  weekly_sugarwt  weekly_sap  \\\n",
       "0     2014-03-11 2014-03-17        0.000543        0.04   \n",
       "1     2014-03-12 2014-03-18        0.000183        0.01   \n",
       "2     2014-03-13 2014-03-19        0.000183        0.01   \n",
       "3     2014-03-14 2014-03-20        0.000183        0.01   \n",
       "4     2014-03-15 2014-03-21        0.000183        0.01   \n",
       "...          ...        ...             ...         ...   \n",
       "18278 2016-02-27 2016-03-04        0.731130       34.63   \n",
       "18279 2016-02-28 2016-03-05        0.731130       34.63   \n",
       "18280 2016-02-29 2016-03-06        0.720000       36.53   \n",
       "18281 2016-03-01 2016-03-07        0.556020       27.42   \n",
       "18282 2016-03-02 2016-03-08        0.774360       39.55   \n",
       "\n",
       "                         site    cum_GDD  weekly_frthw  sap_binary  \n",
       "0      DARTMOUTH ORGANIC FARM   4.870715           4.5           1  \n",
       "1      DARTMOUTH ORGANIC FARM   4.870715           2.0           1  \n",
       "2      DARTMOUTH ORGANIC FARM   4.870715           3.0           1  \n",
       "3      DARTMOUTH ORGANIC FARM   4.870715           4.0           1  \n",
       "4      DARTMOUTH ORGANIC FARM   4.870715           3.0           1  \n",
       "...                       ...        ...           ...         ...  \n",
       "18278      SOUTHERNMOST MAPLE  10.622917           5.0           1  \n",
       "18279      SOUTHERNMOST MAPLE  10.622917           4.5           1  \n",
       "18280      SOUTHERNMOST MAPLE  10.622917           5.5           1  \n",
       "18281      SOUTHERNMOST MAPLE  10.622917           4.0           1  \n",
       "18282      SOUTHERNMOST MAPLE  12.283333           3.5           1  \n",
       "\n",
       "[18283 rows x 8 columns]"
      ]
     },
     "execution_count": 143,
     "metadata": {},
     "output_type": "execute_result"
    }
   ],
   "source": [
    "full_df = copy.copy(sap_sugar_df)\n",
    "full_df = full_df.assign(cum_GDD = full_df.loc[:,'date_to'].apply(lambda x: gdd_frthw.loc[x]['cumGDD']),\n",
    "                         weekly_frthw = full_df.loc[:,'date_to'].apply(lambda x: gdd_frthw.loc[x]['frthw']))\n",
    "full_df.loc[:,'weekly_frthw'] -= full_df['date_from'].apply(lambda x: gdd_frthw.loc[x]['frthw'])\n",
    "\n",
    "full_df['sap_binary'] = full_df['weekly_sap'].map(lambda x: 0 if ((pd.isnull(x)) | (x==0)) else 1)\n",
    "\n",
    "full_df"
   ]
  },
  {
   "cell_type": "code",
   "execution_count": 146,
   "metadata": {},
   "outputs": [],
   "source": [
    "# full_df = full_df.dropna()\n",
    "full_df = full_df.assign(weekly_frthw_sq = lambda x: x.weekly_frthw**2,\n",
    "                         houle_production = np.nan,\n",
    "                         houle_sap_production = np.nan,\n",
    "                         houle_binary = np.nan)"
   ]
  },
  {
   "cell_type": "code",
   "execution_count": 261,
   "metadata": {},
   "outputs": [
    {
     "data": {
      "text/plain": [
       "True     18224\n",
       "False       59\n",
       "Name: houle_binary, dtype: int64"
      ]
     },
     "execution_count": 261,
     "metadata": {},
     "output_type": "execute_result"
    }
   ],
   "source": [
    "full_df.loc[:,'houle_production'] = -(-5.09 + 0.733 * full_df['weekly_frthw'] - 0.014 * full_df['weekly_frthw_sq'] - 0.07 * full_df['cum_GDD'])\n",
    "full_df.loc[:,'houle_sap_production'] = 1/(1 + np.exp(-full_df['houle_production']))\n",
    "full_df.loc[:,'houle_binary'] = full_df['houle_sap_production'] > 0.50\n",
    "full_df.loc[:,'houle_binary'].value_counts()"
   ]
  },
  {
   "cell_type": "code",
   "execution_count": 262,
   "metadata": {},
   "outputs": [
    {
     "name": "stdout",
     "output_type": "stream",
     "text": [
      "[[    0  2240]\n",
      " [   59 15984]]\n"
     ]
    }
   ],
   "source": [
    "print(confusion_matrix(full_df['sap_binary'], full_df['houle_binary']))"
   ]
  },
  {
   "cell_type": "code",
   "execution_count": 263,
   "metadata": {},
   "outputs": [
    {
     "data": {
      "text/plain": [
       "(0, 2240, 59, 15984)"
      ]
     },
     "execution_count": 263,
     "metadata": {},
     "output_type": "execute_result"
    }
   ],
   "source": [
    "tn, fp, fn, tp = confusion_matrix(full_df['sap_binary'], full_df['houle_binary']).ravel()\n",
    "(tn, fp, fn, tp)"
   ]
  },
  {
   "cell_type": "code",
   "execution_count": 264,
   "metadata": {},
   "outputs": [
    {
     "name": "stdout",
     "output_type": "stream",
     "text": [
      "0.8742547721927474\n"
     ]
    }
   ],
   "source": [
    "print(accuracy_score(full_df['sap_binary'], full_df['houle_binary']))"
   ]
  },
  {
   "cell_type": "code",
   "execution_count": 265,
   "metadata": {},
   "outputs": [
    {
     "name": "stdout",
     "output_type": "stream",
     "text": [
      "              precision    recall  f1-score   support\n",
      "\n",
      "           0       0.00      0.00      0.00      2240\n",
      "           1       0.88      1.00      0.93     16043\n",
      "\n",
      "    accuracy                           0.87     18283\n",
      "   macro avg       0.44      0.50      0.47     18283\n",
      "weighted avg       0.77      0.87      0.82     18283\n",
      "\n"
     ]
    }
   ],
   "source": [
    "print(classification_report(full_df['sap_binary'], full_df['houle_binary']))"
   ]
  },
  {
   "cell_type": "code",
   "execution_count": 266,
   "metadata": {},
   "outputs": [
    {
     "data": {
      "text/plain": [
       "HARVARD FOREST             0.429743\n",
       "DARTMOUTH ORGANIC FARM     0.246841\n",
       "NORTHERN RANGE - QUEBEC    0.132363\n",
       "INDU                       0.091943\n",
       "SOUTHERNMOST MAPLE         0.063009\n",
       "DIVIDE RIDGE               0.036099\n",
       "Name: site, dtype: float64"
      ]
     },
     "execution_count": 266,
     "metadata": {},
     "output_type": "execute_result"
    }
   ],
   "source": [
    "full_df.site.value_counts(normalize=True)"
   ]
  },
  {
   "cell_type": "code",
   "execution_count": 283,
   "metadata": {},
   "outputs": [
    {
     "data": {
      "text/plain": [
       "0.8776835771913032"
      ]
     },
     "execution_count": 283,
     "metadata": {},
     "output_type": "execute_result"
    }
   ],
   "source": [
    "X = full_df[['weekly_frthw','weekly_frthw_sq', 'cum_GDD']]\n",
    "y = full_df['sap_binary']\n",
    "\n",
    "X_train, X_test, y_train, y_test = train_test_split(X, y, train_size=0.8, random_state = 123, stratify = full_df.site)\n",
    "logreg = LogisticRegression()\n",
    "logreg.fit(X_train, y_train)\n",
    "logreg.score(X_train,y_train)\n"
   ]
  },
  {
   "cell_type": "code",
   "execution_count": 280,
   "metadata": {},
   "outputs": [
    {
     "name": "stdout",
     "output_type": "stream",
     "text": [
      "[0.47552605] [[ 0.71497448 -0.06783927  0.00935915]]\n"
     ]
    }
   ],
   "source": [
    "print(logreg.intercept_, logreg.coef_)"
   ]
  },
  {
   "cell_type": "code",
   "execution_count": 275,
   "metadata": {},
   "outputs": [
    {
     "data": {
      "text/plain": [
       "0.8748119786681252"
      ]
     },
     "execution_count": 275,
     "metadata": {},
     "output_type": "execute_result"
    }
   ],
   "source": [
    "# Test Houle parameters\n",
    "logreg.intercept_ = [5.09]\n",
    "logreg.coef_ = np.array([[-0.733, 0.014, 0.07]])\n",
    "logreg.score(X_train,y_train)"
   ]
  },
  {
   "cell_type": "code",
   "execution_count": 281,
   "metadata": {},
   "outputs": [
    {
     "name": "stdout",
     "output_type": "stream",
     "text": [
      "[0.47552605] [[ 0.71497448 -0.06783927  0.00935915]]\n"
     ]
    }
   ],
   "source": [
    "print(logreg.intercept_, logreg.coef_)"
   ]
  },
  {
   "cell_type": "code",
   "execution_count": null,
   "metadata": {},
   "outputs": [],
   "source": []
  }
 ],
 "metadata": {
  "kernelspec": {
   "display_name": "Python 3",
   "language": "python",
   "name": "python3"
  },
  "language_info": {
   "codemirror_mode": {
    "name": "ipython",
    "version": 3
   },
   "file_extension": ".py",
   "mimetype": "text/x-python",
   "name": "python",
   "nbconvert_exporter": "python",
   "pygments_lexer": "ipython3",
   "version": "3.8.3"
  }
 },
 "nbformat": 4,
 "nbformat_minor": 4
}
