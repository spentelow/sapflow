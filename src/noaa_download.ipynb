{
 "cells": [
  {
   "cell_type": "code",
   "execution_count": 2,
   "metadata": {},
   "outputs": [],
   "source": [
    "import os\n",
    "import requests\n",
    "from ftplib import FTP\n",
    "import gzip\n",
    "import io\n",
    "import pandas as pd\n",
    "import numpy as np"
   ]
  },
  {
   "cell_type": "code",
   "execution_count": 3,
   "metadata": {},
   "outputs": [],
   "source": [
    "raw_path = \"../data/raw/\""
   ]
  },
  {
   "cell_type": "code",
   "execution_count": 4,
   "metadata": {},
   "outputs": [],
   "source": [
    "# noaa_ftp = FTP('ftp.ncei.noaa.gov')\n",
    "# noaa_ftp.login()\n",
    "# # noaa_ftp.retrlines('LIST')"
   ]
  },
  {
   "cell_type": "code",
   "execution_count": null,
   "metadata": {},
   "outputs": [],
   "source": [
    "    assert type(year) == int, \"Year must be entered as an integer\"\n",
    "    assert (\n",
    "        type(station_number) == str\n",
    "    ), \"Station number must be entered as a string\"\n",
    "    assert re.match(\n",
    "        \"^[0-9]{6}[-][0-9]{5}$\", station_number\n",
    "    ), 'Station number must be entered in form \"911650-22536\".'\n",
    "\n",
    "    # Generate filename based on selected station number and year and download\n",
    "    # data from NOAA FTP site.\n",
    "    filename = station_number + \"-\" + str(year) + \".gz\"\n",
    "\n",
    "    compressed_data = io.BytesIO()\n",
    "\n",
    "    try:\n",
    "        noaa_ftp = FTP(\"ftp.ncei.noaa.gov\")\n",
    "        noaa_ftp.login()  # Log in (no user name or password required)\n",
    "        noaa_ftp.cwd(\"pub/data/noaa/\" + str(year) + \"/\")\n",
    "        noaa_ftp.retrbinary(\"RETR \" + filename, compressed_data.write)\n",
    "    except error_perm as e_mess:\n",
    "        print(\"Error generated from NOAA FTP site: \\n\", e_mess)\n",
    "        noaa_ftp.quit()\n",
    "        return 'FTP Error'\n",
    "\n",
    "    noaa_ftp.quit()\n",
    "\n",
    "    # Unzip and process data line by line and extract variables of interest\n",
    "    # The raw data file format is described here:\n",
    "    # ftp://ftp.ncei.noaa.gov/pub/data/noaa/isd-format-document.pdf\n",
    "    compressed_data.seek(0)\n",
    "    stn_year_df = pd.DataFrame(\n",
    "        columns=[\n",
    "            \"stn\",\n",
    "            \"datetime\",\n",
    "            \"air_temp\",\n",
    "            \"atm_press\",\n",
    "            \"wind_spd\",\n",
    "            \"wind_dir\",\n",
    "        ]\n",
    "    )\n",
    "    with gzip.open(compressed_data, mode=\"rt\") as stn_data:\n",
    "        for i, line in enumerate(stn_data):\n",
    "            stn_year_df.loc[i, \"datetime\"] = pd.to_datetime(line[15:27])\n",
    "            stn_year_df.loc[i, \"air_temp\"] = float(line[87:92]) / 10\n",
    "            stn_year_df.loc[i, \"atm_press\"] = float(line[99:104]) / 10\n",
    "            stn_year_df.loc[i, \"wind_spd\"] = float(line[65:69]) / 10\n",
    "            stn_year_df.loc[i, \"wind_dir\"] = float(line[60:63])\n",
    "\n",
    "    # Replace missing value indicators with NaNs\n",
    "    stn_year_df = stn_year_df.replace(\n",
    "        [999, 999.9, 9999.9], [np.nan, np.nan, np.nan]\n",
    "    )\n",
    "\n",
    "    stn_year_df.loc[:, \"stn\"] = station_number\n",
    "    return stn_year_df"
   ]
  },
  {
   "cell_type": "code",
   "execution_count": 7,
   "metadata": {},
   "outputs": [
    {
     "data": {
      "text/html": [
       "<div>\n",
       "<style scoped>\n",
       "    .dataframe tbody tr th:only-of-type {\n",
       "        vertical-align: middle;\n",
       "    }\n",
       "\n",
       "    .dataframe tbody tr th {\n",
       "        vertical-align: top;\n",
       "    }\n",
       "\n",
       "    .dataframe thead th {\n",
       "        text-align: right;\n",
       "    }\n",
       "</style>\n",
       "<table border=\"1\" class=\"dataframe\">\n",
       "  <thead>\n",
       "    <tr style=\"text-align: right;\">\n",
       "      <th></th>\n",
       "      <th>lat</th>\n",
       "      <th>lon</th>\n",
       "      <th>short_name</th>\n",
       "      <th>long_name</th>\n",
       "      <th>state_province</th>\n",
       "    </tr>\n",
       "    <tr>\n",
       "      <th>site</th>\n",
       "      <th></th>\n",
       "      <th></th>\n",
       "      <th></th>\n",
       "      <th></th>\n",
       "      <th></th>\n",
       "    </tr>\n",
       "  </thead>\n",
       "  <tbody>\n",
       "    <tr>\n",
       "      <th>DOF</th>\n",
       "      <td>43.733800</td>\n",
       "      <td>-72.249000</td>\n",
       "      <td>Dartmouth</td>\n",
       "      <td>Dartmouth Organic Farm</td>\n",
       "      <td>NH</td>\n",
       "    </tr>\n",
       "    <tr>\n",
       "      <th>QC</th>\n",
       "      <td>48.430919</td>\n",
       "      <td>-70.688456</td>\n",
       "      <td>Boris</td>\n",
       "      <td>Boris</td>\n",
       "      <td>QC</td>\n",
       "    </tr>\n",
       "    <tr>\n",
       "      <th>HF</th>\n",
       "      <td>42.531500</td>\n",
       "      <td>-72.189900</td>\n",
       "      <td>Harvard</td>\n",
       "      <td>Harvard Forest</td>\n",
       "      <td>MA</td>\n",
       "    </tr>\n",
       "    <tr>\n",
       "      <th>INDU</th>\n",
       "      <td>41.625400</td>\n",
       "      <td>-87.081100</td>\n",
       "      <td>Indiana Dunes</td>\n",
       "      <td>Indiana Dunes National Lakeshore</td>\n",
       "      <td>IN</td>\n",
       "    </tr>\n",
       "    <tr>\n",
       "      <th>SMM</th>\n",
       "      <td>38.235181</td>\n",
       "      <td>-79.657058</td>\n",
       "      <td>Southernmost</td>\n",
       "      <td>Southernmost Maple</td>\n",
       "      <td>VA</td>\n",
       "    </tr>\n",
       "    <tr>\n",
       "      <th>DR</th>\n",
       "      <td>37.010800</td>\n",
       "      <td>-82.676400</td>\n",
       "      <td>Divide Ridge</td>\n",
       "      <td>Divide Ridge</td>\n",
       "      <td>VA</td>\n",
       "    </tr>\n",
       "  </tbody>\n",
       "</table>\n",
       "</div>"
      ],
      "text/plain": [
       "            lat        lon     short_name                         long_name  \\\n",
       "site                                                                          \n",
       "DOF   43.733800 -72.249000      Dartmouth            Dartmouth Organic Farm   \n",
       "QC    48.430919 -70.688456          Boris                             Boris   \n",
       "HF    42.531500 -72.189900        Harvard                    Harvard Forest   \n",
       "INDU  41.625400 -87.081100  Indiana Dunes  Indiana Dunes National Lakeshore   \n",
       "SMM   38.235181 -79.657058   Southernmost                Southernmost Maple   \n",
       "DR    37.010800 -82.676400   Divide Ridge                      Divide Ridge   \n",
       "\n",
       "     state_province  \n",
       "site                 \n",
       "DOF              NH  \n",
       "QC               QC  \n",
       "HF               MA  \n",
       "INDU             IN  \n",
       "SMM              VA  \n",
       "DR               VA  "
      ]
     },
     "execution_count": 7,
     "metadata": {},
     "output_type": "execute_result"
    }
   ],
   "source": [
    "location = pd.read_csv('../data/raw/stinson2019/ACERnet_LatLon.csv')\n",
    "location = location.rename(columns = {'Site':'site', 'Loc':'state_province'})\n",
    "location = location.set_index('site')\n",
    "\n",
    "# Fix inconsistency in acronym for Quebec site between data tables\n",
    "if 'QB' in location.index:\n",
    "    location = location.rename({'QB': 'QC'}, axis='index')\n",
    "    location.loc['QC',:] = location.loc['QC',:].replace(regex =[r'^QB$'], value = 'QC')\n",
    "    \n",
    "location = location[['lat', 'lon', 'short_name', 'long_name', 'state_province']]\n",
    "location"
   ]
  },
  {
   "cell_type": "code",
   "execution_count": 12,
   "metadata": {},
   "outputs": [
    {
     "data": {
      "text/html": [
       "<div>\n",
       "<style scoped>\n",
       "    .dataframe tbody tr th:only-of-type {\n",
       "        vertical-align: middle;\n",
       "    }\n",
       "\n",
       "    .dataframe tbody tr th {\n",
       "        vertical-align: top;\n",
       "    }\n",
       "\n",
       "    .dataframe thead th {\n",
       "        text-align: right;\n",
       "    }\n",
       "</style>\n",
       "<table border=\"1\" class=\"dataframe\">\n",
       "  <thead>\n",
       "    <tr style=\"text-align: right;\">\n",
       "      <th></th>\n",
       "      <th>site</th>\n",
       "      <th>stn_id</th>\n",
       "      <th>stn_name</th>\n",
       "    </tr>\n",
       "  </thead>\n",
       "  <tbody>\n",
       "    <tr>\n",
       "      <th>0</th>\n",
       "      <td>INDU</td>\n",
       "      <td>726358-00384</td>\n",
       "      <td>Michigan City Airport</td>\n",
       "    </tr>\n",
       "    <tr>\n",
       "      <th>1</th>\n",
       "      <td>SOUTHERNMOST MAPLE</td>\n",
       "      <td>724115-93757</td>\n",
       "      <td>Ingalls Field Airport</td>\n",
       "    </tr>\n",
       "    <tr>\n",
       "      <th>2</th>\n",
       "      <td>DIVIDE RIDGE</td>\n",
       "      <td>724117-63802</td>\n",
       "      <td>Lonesome Pine Airport</td>\n",
       "    </tr>\n",
       "    <tr>\n",
       "      <th>3</th>\n",
       "      <td>NORTHERN RANGE - QUEBEC</td>\n",
       "      <td>716170-99999</td>\n",
       "      <td>Bagotville (CAN-MIL)</td>\n",
       "    </tr>\n",
       "    <tr>\n",
       "      <th>4</th>\n",
       "      <td>HARVARD FOREST</td>\n",
       "      <td>725085-54756</td>\n",
       "      <td>Orange Municipal Airport</td>\n",
       "    </tr>\n",
       "    <tr>\n",
       "      <th>5</th>\n",
       "      <td>DARTMOUTH ORGANIC FARM</td>\n",
       "      <td>726116-94765</td>\n",
       "      <td>Lebanon Municipal Airport</td>\n",
       "    </tr>\n",
       "  </tbody>\n",
       "</table>\n",
       "</div>"
      ],
      "text/plain": [
       "                      site        stn_id                   stn_name\n",
       "0                     INDU  726358-00384      Michigan City Airport\n",
       "1       SOUTHERNMOST MAPLE  724115-93757      Ingalls Field Airport\n",
       "2             DIVIDE RIDGE  724117-63802      Lonesome Pine Airport\n",
       "3  NORTHERN RANGE - QUEBEC  716170-99999       Bagotville (CAN-MIL)\n",
       "4           HARVARD FOREST  725085-54756   Orange Municipal Airport\n",
       "5   DARTMOUTH ORGANIC FARM  726116-94765  Lebanon Municipal Airport"
      ]
     },
     "execution_count": 12,
     "metadata": {},
     "output_type": "execute_result"
    }
   ],
   "source": [
    "stn_ids = [['INDU', '726358-00384', 'Michigan City Airport'],\n",
    "           ['SOUTHERNMOST MAPLE', '724115-93757', 'Ingalls Field Airport'],\n",
    "           ['DIVIDE RIDGE', '724117-63802', 'Lonesome Pine Airport'],\n",
    "           ['NORTHERN RANGE - QUEBEC', '716170-99999', 'Bagotville (CAN-MIL)'],\n",
    "           ['HARVARD FOREST', '725085-54756', 'Orange Municipal Airport'],\n",
    "           ['DARTMOUTH ORGANIC FARM', '726116-94765', 'Lebanon Municipal Airport']]\n",
    "\n",
    "closest_weather_station = pd.DataFrame(stn_ids, columns = ['site', 'stn_id','stn_name'])\n",
    "closest_weather_station"
   ]
  },
  {
   "cell_type": "code",
   "execution_count": 5,
   "metadata": {},
   "outputs": [
    {
     "data": {
      "text/plain": [
       "'221 Goodbye.'"
      ]
     },
     "execution_count": 5,
     "metadata": {},
     "output_type": "execute_result"
    }
   ],
   "source": [
    "# Get station info\n",
    "noaa_ftp = FTP('ftp.ncei.noaa.gov')\n",
    "noaa_ftp.login()\n",
    "\n",
    "\n",
    "if not os.path.exists(raw_path + '/NOAA'):\n",
    "    os.makedirs(raw_path + '/NOAA')\n",
    "    \n",
    "noaa_ftp.cwd(\"pub/data/noaa/\")\n",
    "\n",
    "stn_history_file = 'isd-history.txt'\n",
    "\n",
    "with open(raw_path + '/NOAA/' + stn_history_file, 'wb+') as stn_hist:\n",
    "        noaa_ftp.retrbinary('RETR ' + stn_history_file, stn_hist.write)\n",
    "\n",
    "noaa_ftp.quit()"
   ]
  },
  {
   "cell_type": "code",
   "execution_count": 57,
   "metadata": {},
   "outputs": [
    {
     "data": {
      "text/plain": [
       "200.3"
      ]
     },
     "execution_count": 57,
     "metadata": {},
     "output_type": "execute_result"
    }
   ],
   "source": [
    "float('+0200.3 \t')"
   ]
  },
  {
   "cell_type": "code",
   "execution_count": 54,
   "metadata": {},
   "outputs": [
    {
     "data": {
      "text/html": [
       "<div>\n",
       "<style scoped>\n",
       "    .dataframe tbody tr th:only-of-type {\n",
       "        vertical-align: middle;\n",
       "    }\n",
       "\n",
       "    .dataframe tbody tr th {\n",
       "        vertical-align: top;\n",
       "    }\n",
       "\n",
       "    .dataframe thead th {\n",
       "        text-align: right;\n",
       "    }\n",
       "</style>\n",
       "<table border=\"1\" class=\"dataframe\">\n",
       "  <thead>\n",
       "    <tr style=\"text-align: right;\">\n",
       "      <th></th>\n",
       "      <th>stn_name</th>\n",
       "      <th>lat</th>\n",
       "      <th>lon</th>\n",
       "      <th>elevation</th>\n",
       "      <th>country</th>\n",
       "      <th>state</th>\n",
       "      <th>start</th>\n",
       "      <th>end</th>\n",
       "    </tr>\n",
       "    <tr>\n",
       "      <th>stn_id</th>\n",
       "      <th></th>\n",
       "      <th></th>\n",
       "      <th></th>\n",
       "      <th></th>\n",
       "      <th></th>\n",
       "      <th></th>\n",
       "      <th></th>\n",
       "      <th></th>\n",
       "    </tr>\n",
       "  </thead>\n",
       "  <tbody>\n",
       "    <tr>\n",
       "      <th>726358-00384</th>\n",
       "      <td>MICHIGAN CITY MUNICIPAL AIRPO</td>\n",
       "      <td>+41.703</td>\n",
       "      <td>-086.821</td>\n",
       "      <td>+0200.3</td>\n",
       "      <td>US</td>\n",
       "      <td>IN</td>\n",
       "      <td>2012-01-10</td>\n",
       "      <td>2021-02-23</td>\n",
       "    </tr>\n",
       "    <tr>\n",
       "      <th>724115-93757</th>\n",
       "      <td>INGALLS FIELD AIRPORT</td>\n",
       "      <td>+37.950</td>\n",
       "      <td>-079.817</td>\n",
       "      <td>+1156.1</td>\n",
       "      <td>US</td>\n",
       "      <td>VA</td>\n",
       "      <td>2006-01-01</td>\n",
       "      <td>2021-02-22</td>\n",
       "    </tr>\n",
       "    <tr>\n",
       "      <th>724117-63802</th>\n",
       "      <td>LONESOME PINE AIRPORT</td>\n",
       "      <td>+36.988</td>\n",
       "      <td>-082.530</td>\n",
       "      <td>+0818.1</td>\n",
       "      <td>US</td>\n",
       "      <td>VA</td>\n",
       "      <td>2006-01-01</td>\n",
       "      <td>2021-02-22</td>\n",
       "    </tr>\n",
       "    <tr>\n",
       "      <th>716170-99999</th>\n",
       "      <td>JONQUIERE  QUE</td>\n",
       "      <td>+48.417</td>\n",
       "      <td>-071.133</td>\n",
       "      <td>+0128.0</td>\n",
       "      <td>CA</td>\n",
       "      <td></td>\n",
       "      <td>1992-01-06</td>\n",
       "      <td>2021-02-19</td>\n",
       "    </tr>\n",
       "    <tr>\n",
       "      <th>725085-54756</th>\n",
       "      <td>ORANGE MUNICIPAL AIRPORT</td>\n",
       "      <td>+42.570</td>\n",
       "      <td>-072.291</td>\n",
       "      <td>+0169.2</td>\n",
       "      <td>US</td>\n",
       "      <td>MA</td>\n",
       "      <td>1996-07-02</td>\n",
       "      <td>2021-02-22</td>\n",
       "    </tr>\n",
       "    <tr>\n",
       "      <th>726116-94765</th>\n",
       "      <td>LEBANON MUNICIPAL AIRPORT</td>\n",
       "      <td>+43.626</td>\n",
       "      <td>-072.305</td>\n",
       "      <td>+0182.3</td>\n",
       "      <td>US</td>\n",
       "      <td>NH</td>\n",
       "      <td>1993-01-01</td>\n",
       "      <td>2021-02-22</td>\n",
       "    </tr>\n",
       "  </tbody>\n",
       "</table>\n",
       "</div>"
      ],
      "text/plain": [
       "                                   stn_name      lat       lon elevation  \\\n",
       "stn_id                                                                     \n",
       "726358-00384  MICHIGAN CITY MUNICIPAL AIRPO  +41.703  -086.821   +0200.3   \n",
       "724115-93757          INGALLS FIELD AIRPORT  +37.950  -079.817   +1156.1   \n",
       "724117-63802          LONESOME PINE AIRPORT  +36.988  -082.530   +0818.1   \n",
       "716170-99999                 JONQUIERE  QUE  +48.417  -071.133   +0128.0   \n",
       "725085-54756       ORANGE MUNICIPAL AIRPORT  +42.570  -072.291   +0169.2   \n",
       "726116-94765      LEBANON MUNICIPAL AIRPORT  +43.626  -072.305   +0182.3   \n",
       "\n",
       "             country state      start        end  \n",
       "stn_id                                            \n",
       "726358-00384      US    IN 2012-01-10 2021-02-23  \n",
       "724115-93757      US    VA 2006-01-01 2021-02-22  \n",
       "724117-63802      US    VA 2006-01-01 2021-02-22  \n",
       "716170-99999      CA       1992-01-06 2021-02-19  \n",
       "725085-54756      US    MA 1996-07-02 2021-02-22  \n",
       "726116-94765      US    NH 1993-01-01 2021-02-22  "
      ]
     },
     "execution_count": 54,
     "metadata": {},
     "output_type": "execute_result"
    }
   ],
   "source": [
    "weather_stn"
   ]
  },
  {
   "cell_type": "code",
   "execution_count": 55,
   "metadata": {},
   "outputs": [],
   "source": [
    "weather_stn = pd.DataFrame(\n",
    "    columns=[\"stn_name\", \"lat\", \"lon\", \"elevation_m\", \"country\", \"state\", \"start\", \"end\"],\n",
    "    index=closest_weather_station[\"stn_id\"],\n",
    ")\n",
    "\n",
    "with open(raw_path + \"/NOAA/\" + stn_history_file, mode=\"rt\") as stn_hist:\n",
    "    for i, line in enumerate(stn_hist):\n",
    "        stn = line[0:6] + \"-\" + line[7:12]\n",
    "        if stn in weather_stn.index.tolist():\n",
    "            weather_stn.loc[stn] = [\n",
    "                line[13:43].strip(),\n",
    "                line[57:65].strip(),\n",
    "                line[65:74].strip(),\n",
    "                line[74:82].strip(),\n",
    "                line[43:48].strip(),\n",
    "                line[48:51].strip(),\n",
    "                line[82:91].strip(),\n",
    "                line[91:].strip(),\n",
    "            ]\n",
    "weather_stn.start = pd.to_datetime(weather_stn.start)\n",
    "weather_stn.end =  pd.to_datetime(weather_stn.end)\n",
    "weather"
   ]
  },
  {
   "cell_type": "code",
   "execution_count": 11,
   "metadata": {},
   "outputs": [
    {
     "data": {
      "text/plain": [
       "'716170 99999 JONQUIERE  QUE                CA      CWJO  +48.417 -071.133 +0128.0 19920106 20210219\\n'"
      ]
     },
     "execution_count": 11,
     "metadata": {},
     "output_type": "execute_result"
    }
   ],
   "source": [
    "stn_info.iloc[0,1]"
   ]
  },
  {
   "cell_type": "code",
   "execution_count": 71,
   "metadata": {},
   "outputs": [
    {
     "data": {
      "text/html": [
       "<div>\n",
       "<style scoped>\n",
       "    .dataframe tbody tr th:only-of-type {\n",
       "        vertical-align: middle;\n",
       "    }\n",
       "\n",
       "    .dataframe tbody tr th {\n",
       "        vertical-align: top;\n",
       "    }\n",
       "\n",
       "    .dataframe thead th {\n",
       "        text-align: right;\n",
       "    }\n",
       "</style>\n",
       "<table border=\"1\" class=\"dataframe\">\n",
       "  <thead>\n",
       "    <tr style=\"text-align: right;\">\n",
       "      <th></th>\n",
       "      <th>row</th>\n",
       "      <th>text</th>\n",
       "    </tr>\n",
       "  </thead>\n",
       "  <tbody>\n",
       "    <tr>\n",
       "      <th>0</th>\n",
       "      <td>1</td>\n",
       "      <td>dkl</td>\n",
       "    </tr>\n",
       "  </tbody>\n",
       "</table>\n",
       "</div>"
      ],
      "text/plain": [
       "  row text\n",
       "0   1  dkl"
      ]
     },
     "execution_count": 71,
     "metadata": {},
     "output_type": "execute_result"
    }
   ],
   "source": [
    "stn_info = pd.DataFrame(columns = ['row','text'])\n",
    "stn_info = stn_info.append(pd.DataFrame({'row': [1], 'text': ['dkl']}))\n",
    "stn_info"
   ]
  },
  {
   "cell_type": "code",
   "execution_count": 3,
   "metadata": {},
   "outputs": [],
   "source": [
    "if not os.path.exists(raw_path + '/LEB'):\n",
    "    os.makedirs(raw_path + '/LEB')\n",
    "\n",
    "year = \"2010\"\n",
    "filename = \"726116-94765-2010.gz\"\n",
    "noaa_ftp.cwd(\"pub/data/noaa/\" + year)"
   ]
  },
  {
   "cell_type": "code",
   "execution_count": 40,
   "metadata": {},
   "outputs": [
    {
     "data": {
      "text/plain": [
       "'/home/steffen/UBC/personal/sapflow/src'"
      ]
     },
     "execution_count": 40,
     "metadata": {},
     "output_type": "execute_result"
    }
   ],
   "source": [
    "os.getcwd()"
   ]
  },
  {
   "cell_type": "code",
   "execution_count": 42,
   "metadata": {},
   "outputs": [],
   "source": [
    "with open(raw_path + '/LEB/' + filename, 'wb+') as stn_gz:\n",
    "        noaa_ftp.retrbinary('RETR ' + filename, stn_gz.write)"
   ]
  },
  {
   "cell_type": "code",
   "execution_count": 45,
   "metadata": {},
   "outputs": [],
   "source": [
    "with gzip.open(raw_path + '/LEB/' + filename, 'rb') as stn_data:\n",
    "    file_content = stn_data.read()\n"
   ]
  },
  {
   "cell_type": "code",
   "execution_count": 48,
   "metadata": {},
   "outputs": [
    {
     "ename": "NameError",
     "evalue": "name 'year_df' is not defined",
     "output_type": "error",
     "traceback": [
      "\u001b[0;31m---------------------------------------------------------------------------\u001b[0m",
      "\u001b[0;31mNameError\u001b[0m                                 Traceback (most recent call last)",
      "\u001b[0;32m<ipython-input-48-c64031095fe9>\u001b[0m in \u001b[0;36m<module>\u001b[0;34m\u001b[0m\n\u001b[1;32m      1\u001b[0m \u001b[0;32mwith\u001b[0m \u001b[0mgzip\u001b[0m\u001b[0;34m.\u001b[0m\u001b[0mopen\u001b[0m\u001b[0;34m(\u001b[0m\u001b[0mraw_path\u001b[0m \u001b[0;34m+\u001b[0m \u001b[0;34m'/LEB/'\u001b[0m \u001b[0;34m+\u001b[0m \u001b[0mfilename\u001b[0m\u001b[0;34m,\u001b[0m \u001b[0mmode\u001b[0m\u001b[0;34m=\u001b[0m\u001b[0;34m'rt'\u001b[0m\u001b[0;34m)\u001b[0m \u001b[0;32mas\u001b[0m \u001b[0mstn_data\u001b[0m\u001b[0;34m:\u001b[0m\u001b[0;34m\u001b[0m\u001b[0;34m\u001b[0m\u001b[0m\n\u001b[1;32m      2\u001b[0m     \u001b[0;32mfor\u001b[0m \u001b[0mi\u001b[0m\u001b[0;34m,\u001b[0m \u001b[0mline\u001b[0m \u001b[0;32min\u001b[0m \u001b[0menumerate\u001b[0m\u001b[0;34m(\u001b[0m\u001b[0mstn_data\u001b[0m\u001b[0;34m)\u001b[0m\u001b[0;34m:\u001b[0m\u001b[0;34m\u001b[0m\u001b[0;34m\u001b[0m\u001b[0m\n\u001b[0;32m----> 3\u001b[0;31m         \u001b[0myear_df\u001b[0m\u001b[0;34m.\u001b[0m\u001b[0mloc\u001b[0m\u001b[0;34m[\u001b[0m\u001b[0mi\u001b[0m\u001b[0;34m,\u001b[0m \u001b[0;34m'datetime'\u001b[0m\u001b[0;34m]\u001b[0m \u001b[0;34m=\u001b[0m \u001b[0mpd\u001b[0m\u001b[0;34m.\u001b[0m\u001b[0mto_datetime\u001b[0m\u001b[0;34m(\u001b[0m\u001b[0mline\u001b[0m\u001b[0;34m[\u001b[0m\u001b[0;36m15\u001b[0m\u001b[0;34m:\u001b[0m\u001b[0;36m27\u001b[0m\u001b[0;34m]\u001b[0m\u001b[0;34m)\u001b[0m\u001b[0;34m\u001b[0m\u001b[0;34m\u001b[0m\u001b[0m\n\u001b[0m\u001b[1;32m      4\u001b[0m         \u001b[0myear_df\u001b[0m\u001b[0;34m.\u001b[0m\u001b[0mloc\u001b[0m\u001b[0;34m[\u001b[0m\u001b[0mi\u001b[0m\u001b[0;34m,\u001b[0m \u001b[0;34m'airt'\u001b[0m\u001b[0;34m]\u001b[0m \u001b[0;34m=\u001b[0m \u001b[0mfloat\u001b[0m\u001b[0;34m(\u001b[0m\u001b[0mline\u001b[0m\u001b[0;34m[\u001b[0m\u001b[0;36m87\u001b[0m\u001b[0;34m:\u001b[0m\u001b[0;36m92\u001b[0m\u001b[0;34m]\u001b[0m\u001b[0;34m)\u001b[0m\u001b[0;34m/\u001b[0m\u001b[0;36m10\u001b[0m\u001b[0;34m\u001b[0m\u001b[0;34m\u001b[0m\u001b[0m\n",
      "\u001b[0;31mNameError\u001b[0m: name 'year_df' is not defined"
     ]
    }
   ],
   "source": [
    "with gzip.open(raw_path + '/LEB/' + filename, mode='rt') as stn_data:\n",
    "    for i, line in enumerate(stn_data):\n",
    "        year_df.loc[i, 'datetime'] = pd.to_datetime(line[15:27])\n",
    "        year_df.loc[i, 'airt'] = float(line[87:92])/10"
   ]
  },
  {
   "cell_type": "markdown",
   "metadata": {},
   "source": [
    "Indiana Dunes National Lakeshore - INDU\n",
    "726358-00384 -- Michigan City Airport\n",
    "\n",
    "Southernmost Maple\n",
    "724115-93757 -- Ingalls Field Airport\n",
    "\n",
    "Divide Ridge\n",
    "724117-63802 -- Lonesome Pine Airport\n",
    "\n",
    "Boris\n",
    "716170-99999 -- Bagotville (CAN-MIL)\n",
    "\n",
    "Harvard Forest\n",
    "725085-54756 -- Orange Municipal Airport\n",
    "\n",
    "Dartmouth Organic Farm\n",
    "726116-94765 -- Lebanon Municipal Airport \n"
   ]
  }
 ],
 "metadata": {
  "kernelspec": {
   "display_name": "Python 3",
   "language": "python",
   "name": "python3"
  },
  "language_info": {
   "codemirror_mode": {
    "name": "ipython",
    "version": 3
   },
   "file_extension": ".py",
   "mimetype": "text/x-python",
   "name": "python",
   "nbconvert_exporter": "python",
   "pygments_lexer": "ipython3",
   "version": "3.8.8"
  }
 },
 "nbformat": 4,
 "nbformat_minor": 4
}
