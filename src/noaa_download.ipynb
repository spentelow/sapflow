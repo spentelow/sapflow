{
 "cells": [
  {
   "cell_type": "code",
   "execution_count": 1,
   "metadata": {},
   "outputs": [],
   "source": [
    "import os\n",
    "import requests\n",
    "from ftplib import FTP\n",
    "import gzip\n",
    "import io\n",
    "import pandas as pd\n",
    "import numpy as np"
   ]
  },
  {
   "cell_type": "code",
   "execution_count": 2,
   "metadata": {},
   "outputs": [],
   "source": [
    "raw_path = \"../data/raw/\""
   ]
  },
  {
   "cell_type": "code",
   "execution_count": 20,
   "metadata": {},
   "outputs": [
    {
     "data": {
      "text/html": [
       "<div>\n",
       "<style scoped>\n",
       "    .dataframe tbody tr th:only-of-type {\n",
       "        vertical-align: middle;\n",
       "    }\n",
       "\n",
       "    .dataframe tbody tr th {\n",
       "        vertical-align: top;\n",
       "    }\n",
       "\n",
       "    .dataframe thead th {\n",
       "        text-align: right;\n",
       "    }\n",
       "</style>\n",
       "<table border=\"1\" class=\"dataframe\">\n",
       "  <thead>\n",
       "    <tr style=\"text-align: right;\">\n",
       "      <th></th>\n",
       "      <th>stn_name</th>\n",
       "      <th>lat</th>\n",
       "      <th>lon</th>\n",
       "      <th>elevation_m</th>\n",
       "      <th>country</th>\n",
       "      <th>state</th>\n",
       "      <th>start</th>\n",
       "      <th>end</th>\n",
       "    </tr>\n",
       "    <tr>\n",
       "      <th>stn_id</th>\n",
       "      <th></th>\n",
       "      <th></th>\n",
       "      <th></th>\n",
       "      <th></th>\n",
       "      <th></th>\n",
       "      <th></th>\n",
       "      <th></th>\n",
       "      <th></th>\n",
       "    </tr>\n",
       "  </thead>\n",
       "  <tbody>\n",
       "    <tr>\n",
       "      <th>726358-00384</th>\n",
       "      <td>MICHIGAN CITY MUNICIPAL AIRPO</td>\n",
       "      <td>41.703</td>\n",
       "      <td>-86.821</td>\n",
       "      <td>200.3</td>\n",
       "      <td>US</td>\n",
       "      <td>IN</td>\n",
       "      <td>2012-01-10</td>\n",
       "      <td>2021-03-13</td>\n",
       "    </tr>\n",
       "    <tr>\n",
       "      <th>724115-93757</th>\n",
       "      <td>INGALLS FIELD AIRPORT</td>\n",
       "      <td>37.950</td>\n",
       "      <td>-79.817</td>\n",
       "      <td>1156.1</td>\n",
       "      <td>US</td>\n",
       "      <td>VA</td>\n",
       "      <td>2006-01-01</td>\n",
       "      <td>2021-03-13</td>\n",
       "    </tr>\n",
       "    <tr>\n",
       "      <th>724117-63802</th>\n",
       "      <td>LONESOME PINE AIRPORT</td>\n",
       "      <td>36.988</td>\n",
       "      <td>-82.530</td>\n",
       "      <td>818.1</td>\n",
       "      <td>US</td>\n",
       "      <td>VA</td>\n",
       "      <td>2006-01-01</td>\n",
       "      <td>2021-03-13</td>\n",
       "    </tr>\n",
       "    <tr>\n",
       "      <th>716170-99999</th>\n",
       "      <td>JONQUIERE  QUE</td>\n",
       "      <td>48.417</td>\n",
       "      <td>-71.133</td>\n",
       "      <td>128.0</td>\n",
       "      <td>CA</td>\n",
       "      <td></td>\n",
       "      <td>1992-01-06</td>\n",
       "      <td>2021-03-12</td>\n",
       "    </tr>\n",
       "    <tr>\n",
       "      <th>725085-54756</th>\n",
       "      <td>ORANGE MUNICIPAL AIRPORT</td>\n",
       "      <td>42.570</td>\n",
       "      <td>-72.291</td>\n",
       "      <td>169.2</td>\n",
       "      <td>US</td>\n",
       "      <td>MA</td>\n",
       "      <td>1996-07-02</td>\n",
       "      <td>2021-03-13</td>\n",
       "    </tr>\n",
       "    <tr>\n",
       "      <th>726116-94765</th>\n",
       "      <td>LEBANON MUNICIPAL AIRPORT</td>\n",
       "      <td>43.626</td>\n",
       "      <td>-72.305</td>\n",
       "      <td>182.3</td>\n",
       "      <td>US</td>\n",
       "      <td>NH</td>\n",
       "      <td>1993-01-01</td>\n",
       "      <td>2021-03-14</td>\n",
       "    </tr>\n",
       "  </tbody>\n",
       "</table>\n",
       "</div>"
      ],
      "text/plain": [
       "                                   stn_name     lat     lon  elevation_m  \\\n",
       "stn_id                                                                     \n",
       "726358-00384  MICHIGAN CITY MUNICIPAL AIRPO  41.703 -86.821        200.3   \n",
       "724115-93757          INGALLS FIELD AIRPORT  37.950 -79.817       1156.1   \n",
       "724117-63802          LONESOME PINE AIRPORT  36.988 -82.530        818.1   \n",
       "716170-99999                 JONQUIERE  QUE  48.417 -71.133        128.0   \n",
       "725085-54756       ORANGE MUNICIPAL AIRPORT  42.570 -72.291        169.2   \n",
       "726116-94765      LEBANON MUNICIPAL AIRPORT  43.626 -72.305        182.3   \n",
       "\n",
       "             country state      start        end  \n",
       "stn_id                                            \n",
       "726358-00384      US    IN 2012-01-10 2021-03-13  \n",
       "724115-93757      US    VA 2006-01-01 2021-03-13  \n",
       "724117-63802      US    VA 2006-01-01 2021-03-13  \n",
       "716170-99999      CA       1992-01-06 2021-03-12  \n",
       "725085-54756      US    MA 1996-07-02 2021-03-13  \n",
       "726116-94765      US    NH 1993-01-01 2021-03-14  "
      ]
     },
     "execution_count": 20,
     "metadata": {},
     "output_type": "execute_result"
    }
   ],
   "source": [
    "weather_stn = pd.read_pickle('../data/processed/stinson2019/weather_stn')\n",
    "weather_stn"
   ]
  },
  {
   "cell_type": "code",
   "execution_count": null,
   "metadata": {},
   "outputs": [],
   "source": [
    "# load a bunch of tables to get required years of data for each site\n",
    "# append to weather_stn columns sap_data_year (list)"
   ]
  },
  {
   "cell_type": "code",
   "execution_count": 22,
   "metadata": {},
   "outputs": [
    {
     "name": "stdout",
     "output_type": "stream",
     "text": [
      "726358-00384\n",
      "724115-93757\n",
      "724117-63802\n",
      "716170-99999\n",
      "725085-54756\n",
      "726116-94765\n"
     ]
    }
   ],
   "source": [
    "for stn in weather_stn.index: print(stn)"
   ]
  },
  {
   "cell_type": "code",
   "execution_count": null,
   "metadata": {},
   "outputs": [],
   "source": [
    "weather = pd.DataFrame(columns = [\"stn_id\", \"datetime\",\"air_temp\"])\n",
    "\n",
    "for stn in weather_stn.index:\n",
    "    for year in weather_stn[stn].sap_data_years:\n",
    "\n",
    "        # Generate filename based on selected station number and year and download\n",
    "        # data from NOAA FTP site.\n",
    "        filename = station_number + \"-\" + str(year) + \".gz\"\n",
    "\n",
    "        compressed_data = io.BytesIO()\n",
    "\n",
    "        try:\n",
    "            noaa_ftp = FTP(\"ftp.ncei.noaa.gov\")\n",
    "            noaa_ftp.login()  # Log in (no user name or password required)\n",
    "            noaa_ftp.cwd(\"pub/data/noaa/\" + str(year) + \"/\")\n",
    "            noaa_ftp.retrbinary(\"RETR \" + filename, compressed_data.write)\n",
    "        except error_perm as e_message:\n",
    "            print(\"Error generated from NOAA FTP site: \\n\", e_message)\n",
    "            noaa_ftp.quit()\n",
    "            return 'FTP Error'\n",
    "\n",
    "        noaa_ftp.quit()\n",
    "\n",
    "        # Unzip and process data line by line and extract variables of interest\n",
    "        # The raw data file format is described here:\n",
    "        # ftp://ftp.ncei.noaa.gov/pub/data/noaa/isd-format-document.pdf\n",
    "        \n",
    "        compressed_data.seek(0)\n",
    "        stn_year_df = pd.DataFrame(\n",
    "            columns=[\n",
    "                \"stn_id\",\n",
    "                \"datetime\",\n",
    "                \"air_temp\",\n",
    "\n",
    "# Additional parameters.  For future use.\n",
    "#                 \"atm_press\",\n",
    "#                 \"wind_spd\",\n",
    "#                 \"wind_dir\",\n",
    "            ]\n",
    "        )\n",
    "        with gzip.open(compressed_data, mode=\"rt\") as stn_data:\n",
    "            for i, line in enumerate(stn_data):\n",
    "                stn_year_df.loc[i, \"datetime\"] = pd.to_datetime(line[15:27])\n",
    "                stn_year_df.loc[i, \"air_temp\"] = float(line[87:92]) / 10\n",
    "\n",
    "        # Additional parameters.  For future use.\n",
    "        #         stn_year_df.loc[i, \"atm_press\"] = float(line[99:104]) / 10\n",
    "        #         stn_year_df.loc[i, \"wind_spd\"] = float(line[65:69]) / 10\n",
    "        #         stn_year_df.loc[i, \"wind_dir\"] = float(line[60:63])\n",
    "\n",
    "        # Replace missing value indicators with NaNs\n",
    "        stn_year_df = stn_year_df.replace(\n",
    "            [999, 999.9, 9999.9], [np.nan, np.nan, np.nan]\n",
    "        )\n",
    "\n",
    "        stn_year_df.loc[:, \"stn_id\"] = station_number\n",
    "        weather = weather.append(stn_year_df)\n",
    "\n",
    "weather.set_index(\"stn_id\")"
   ]
  },
  {
   "cell_type": "code",
   "execution_count": 3,
   "metadata": {},
   "outputs": [],
   "source": [
    "if not os.path.exists(raw_path + '/LEB'):\n",
    "    os.makedirs(raw_path + '/LEB')\n",
    "\n",
    "year = \"2010\"\n",
    "filename = \"726116-94765-2010.gz\"\n",
    "noaa_ftp.cwd(\"pub/data/noaa/\" + year)"
   ]
  },
  {
   "cell_type": "code",
   "execution_count": 40,
   "metadata": {},
   "outputs": [
    {
     "data": {
      "text/plain": [
       "'/home/steffen/UBC/personal/sapflow/src'"
      ]
     },
     "execution_count": 40,
     "metadata": {},
     "output_type": "execute_result"
    }
   ],
   "source": [
    "os.getcwd()"
   ]
  },
  {
   "cell_type": "code",
   "execution_count": 42,
   "metadata": {},
   "outputs": [],
   "source": [
    "with open(raw_path + '/LEB/' + filename, 'wb+') as stn_gz:\n",
    "        noaa_ftp.retrbinary('RETR ' + filename, stn_gz.write)"
   ]
  },
  {
   "cell_type": "code",
   "execution_count": 45,
   "metadata": {},
   "outputs": [],
   "source": [
    "with gzip.open(raw_path + '/LEB/' + filename, 'rb') as stn_data:\n",
    "    file_content = stn_data.read()\n"
   ]
  },
  {
   "cell_type": "code",
   "execution_count": 48,
   "metadata": {},
   "outputs": [
    {
     "ename": "NameError",
     "evalue": "name 'year_df' is not defined",
     "output_type": "error",
     "traceback": [
      "\u001b[0;31m---------------------------------------------------------------------------\u001b[0m",
      "\u001b[0;31mNameError\u001b[0m                                 Traceback (most recent call last)",
      "\u001b[0;32m<ipython-input-48-c64031095fe9>\u001b[0m in \u001b[0;36m<module>\u001b[0;34m\u001b[0m\n\u001b[1;32m      1\u001b[0m \u001b[0;32mwith\u001b[0m \u001b[0mgzip\u001b[0m\u001b[0;34m.\u001b[0m\u001b[0mopen\u001b[0m\u001b[0;34m(\u001b[0m\u001b[0mraw_path\u001b[0m \u001b[0;34m+\u001b[0m \u001b[0;34m'/LEB/'\u001b[0m \u001b[0;34m+\u001b[0m \u001b[0mfilename\u001b[0m\u001b[0;34m,\u001b[0m \u001b[0mmode\u001b[0m\u001b[0;34m=\u001b[0m\u001b[0;34m'rt'\u001b[0m\u001b[0;34m)\u001b[0m \u001b[0;32mas\u001b[0m \u001b[0mstn_data\u001b[0m\u001b[0;34m:\u001b[0m\u001b[0;34m\u001b[0m\u001b[0;34m\u001b[0m\u001b[0m\n\u001b[1;32m      2\u001b[0m     \u001b[0;32mfor\u001b[0m \u001b[0mi\u001b[0m\u001b[0;34m,\u001b[0m \u001b[0mline\u001b[0m \u001b[0;32min\u001b[0m \u001b[0menumerate\u001b[0m\u001b[0;34m(\u001b[0m\u001b[0mstn_data\u001b[0m\u001b[0;34m)\u001b[0m\u001b[0;34m:\u001b[0m\u001b[0;34m\u001b[0m\u001b[0;34m\u001b[0m\u001b[0m\n\u001b[0;32m----> 3\u001b[0;31m         \u001b[0myear_df\u001b[0m\u001b[0;34m.\u001b[0m\u001b[0mloc\u001b[0m\u001b[0;34m[\u001b[0m\u001b[0mi\u001b[0m\u001b[0;34m,\u001b[0m \u001b[0;34m'datetime'\u001b[0m\u001b[0;34m]\u001b[0m \u001b[0;34m=\u001b[0m \u001b[0mpd\u001b[0m\u001b[0;34m.\u001b[0m\u001b[0mto_datetime\u001b[0m\u001b[0;34m(\u001b[0m\u001b[0mline\u001b[0m\u001b[0;34m[\u001b[0m\u001b[0;36m15\u001b[0m\u001b[0;34m:\u001b[0m\u001b[0;36m27\u001b[0m\u001b[0;34m]\u001b[0m\u001b[0;34m)\u001b[0m\u001b[0;34m\u001b[0m\u001b[0;34m\u001b[0m\u001b[0m\n\u001b[0m\u001b[1;32m      4\u001b[0m         \u001b[0myear_df\u001b[0m\u001b[0;34m.\u001b[0m\u001b[0mloc\u001b[0m\u001b[0;34m[\u001b[0m\u001b[0mi\u001b[0m\u001b[0;34m,\u001b[0m \u001b[0;34m'airt'\u001b[0m\u001b[0;34m]\u001b[0m \u001b[0;34m=\u001b[0m \u001b[0mfloat\u001b[0m\u001b[0;34m(\u001b[0m\u001b[0mline\u001b[0m\u001b[0;34m[\u001b[0m\u001b[0;36m87\u001b[0m\u001b[0;34m:\u001b[0m\u001b[0;36m92\u001b[0m\u001b[0;34m]\u001b[0m\u001b[0;34m)\u001b[0m\u001b[0;34m/\u001b[0m\u001b[0;36m10\u001b[0m\u001b[0;34m\u001b[0m\u001b[0;34m\u001b[0m\u001b[0m\n",
      "\u001b[0;31mNameError\u001b[0m: name 'year_df' is not defined"
     ]
    }
   ],
   "source": [
    "with gzip.open(raw_path + '/LEB/' + filename, mode='rt') as stn_data:\n",
    "    for i, line in enumerate(stn_data):\n",
    "        year_df.loc[i, 'datetime'] = pd.to_datetime(line[15:27])\n",
    "        year_df.loc[i, 'airt'] = float(line[87:92])/10"
   ]
  },
  {
   "cell_type": "markdown",
   "metadata": {},
   "source": [
    "Indiana Dunes National Lakeshore - INDU\n",
    "726358-00384 -- Michigan City Airport\n",
    "\n",
    "Southernmost Maple\n",
    "724115-93757 -- Ingalls Field Airport\n",
    "\n",
    "Divide Ridge\n",
    "724117-63802 -- Lonesome Pine Airport\n",
    "\n",
    "Boris\n",
    "716170-99999 -- Bagotville (CAN-MIL)\n",
    "\n",
    "Harvard Forest\n",
    "725085-54756 -- Orange Municipal Airport\n",
    "\n",
    "Dartmouth Organic Farm\n",
    "726116-94765 -- Lebanon Municipal Airport \n"
   ]
  }
 ],
 "metadata": {
  "kernelspec": {
   "display_name": "Python 3",
   "language": "python",
   "name": "python3"
  },
  "language_info": {
   "codemirror_mode": {
    "name": "ipython",
    "version": 3
   },
   "file_extension": ".py",
   "mimetype": "text/x-python",
   "name": "python",
   "nbconvert_exporter": "python",
   "pygments_lexer": "ipython3",
   "version": "3.8.8"
  }
 },
 "nbformat": 4,
 "nbformat_minor": 4
}
