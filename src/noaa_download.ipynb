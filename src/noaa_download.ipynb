{
 "cells": [
  {
   "cell_type": "code",
   "execution_count": 2,
   "metadata": {},
   "outputs": [],
   "source": [
    "import os\n",
    "import requests\n",
    "from ftplib import FTP\n",
    "import gzip\n",
    "import io\n",
    "import pandas as pd\n",
    "import numpy as np"
   ]
  },
  {
   "cell_type": "code",
   "execution_count": 47,
   "metadata": {},
   "outputs": [],
   "source": [
    "raw_path = \"../data/raw/\""
   ]
  },
  {
   "cell_type": "code",
   "execution_count": 4,
   "metadata": {},
   "outputs": [],
   "source": [
    "# noaa_ftp = FTP('ftp.ncei.noaa.gov')\n",
    "# noaa_ftp.login()\n",
    "# # noaa_ftp.retrlines('LIST')"
   ]
  },
  {
   "cell_type": "code",
   "execution_count": 49,
   "metadata": {},
   "outputs": [
    {
     "data": {
      "text/plain": [
       "'221 Goodbye.'"
      ]
     },
     "execution_count": 49,
     "metadata": {},
     "output_type": "execute_result"
    }
   ],
   "source": [
    "# Get station info\n",
    "noaa_ftp = FTP('ftp.ncei.noaa.gov')\n",
    "noaa_ftp.login()\n",
    "\n",
    "\n",
    "if not os.path.exists(raw_path + '/NOAA'):\n",
    "    os.makedirs(raw_path + '/NOAA')\n",
    "    \n",
    "noaa_ftp.cwd(\"pub/data/noaa/\")\n",
    "\n",
    "stn_history_file = 'isd-history.txt'\n",
    "\n",
    "with open(raw_path + '/NOAA/' + stn_history_file, 'wb+') as stn_hist:\n",
    "        noaa_ftp.retrbinary('RETR ' + stn_history_file, stn_hist.write)\n",
    "\n",
    "noaa_ftp.quit()"
   ]
  },
  {
   "cell_type": "code",
   "execution_count": 90,
   "metadata": {},
   "outputs": [],
   "source": [
    "stn_info = pd.DataFrame(columns = ['row','text'])\n",
    "with open(raw_path + '/NOAA/' + stn_history_file, mode='rt') as stn_hist:\n",
    "    for i, line in enumerate(stn_hist):\n",
    "        if line[0:6]+'-'+line[7:12] in closest_weather_station['stn_id'].tolist():\n",
    "            stn_info = stn_info.append(pd.DataFrame({'row': [i], 'text': [line]}))"
   ]
  },
  {
   "cell_type": "code",
   "execution_count": 93,
   "metadata": {},
   "outputs": [
    {
     "data": {
      "text/html": [
       "<div>\n",
       "<style scoped>\n",
       "    .dataframe tbody tr th:only-of-type {\n",
       "        vertical-align: middle;\n",
       "    }\n",
       "\n",
       "    .dataframe tbody tr th {\n",
       "        vertical-align: top;\n",
       "    }\n",
       "\n",
       "    .dataframe thead th {\n",
       "        text-align: right;\n",
       "    }\n",
       "</style>\n",
       "<table border=\"1\" class=\"dataframe\">\n",
       "  <thead>\n",
       "    <tr style=\"text-align: right;\">\n",
       "      <th></th>\n",
       "      <th>row</th>\n",
       "      <th>text</th>\n",
       "    </tr>\n",
       "  </thead>\n",
       "  <tbody>\n",
       "    <tr>\n",
       "      <th>0</th>\n",
       "      <td>16384</td>\n",
       "      <td>716170 99999 JONQUIERE  QUE                CA ...</td>\n",
       "    </tr>\n",
       "    <tr>\n",
       "      <th>0</th>\n",
       "      <td>19338</td>\n",
       "      <td>724115 93757 INGALLS FIELD AIRPORT         US ...</td>\n",
       "    </tr>\n",
       "    <tr>\n",
       "      <th>0</th>\n",
       "      <td>19342</td>\n",
       "      <td>724117 63802 LONESOME PINE AIRPORT         US ...</td>\n",
       "    </tr>\n",
       "    <tr>\n",
       "      <th>0</th>\n",
       "      <td>19823</td>\n",
       "      <td>725085 54756 ORANGE MUNICIPAL AIRPORT      US ...</td>\n",
       "    </tr>\n",
       "    <tr>\n",
       "      <th>0</th>\n",
       "      <td>20449</td>\n",
       "      <td>726116 94765 LEBANON MUNICIPAL AIRPORT     US ...</td>\n",
       "    </tr>\n",
       "    <tr>\n",
       "      <th>0</th>\n",
       "      <td>20531</td>\n",
       "      <td>726358 00384 MICHIGAN CITY MUNICIPAL AIRPO US ...</td>\n",
       "    </tr>\n",
       "  </tbody>\n",
       "</table>\n",
       "</div>"
      ],
      "text/plain": [
       "     row                                               text\n",
       "0  16384  716170 99999 JONQUIERE  QUE                CA ...\n",
       "0  19338  724115 93757 INGALLS FIELD AIRPORT         US ...\n",
       "0  19342  724117 63802 LONESOME PINE AIRPORT         US ...\n",
       "0  19823  725085 54756 ORANGE MUNICIPAL AIRPORT      US ...\n",
       "0  20449  726116 94765 LEBANON MUNICIPAL AIRPORT     US ...\n",
       "0  20531  726358 00384 MICHIGAN CITY MUNICIPAL AIRPO US ..."
      ]
     },
     "execution_count": 93,
     "metadata": {},
     "output_type": "execute_result"
    }
   ],
   "source": [
    "stn_info"
   ]
  },
  {
   "cell_type": "code",
   "execution_count": 71,
   "metadata": {},
   "outputs": [
    {
     "data": {
      "text/html": [
       "<div>\n",
       "<style scoped>\n",
       "    .dataframe tbody tr th:only-of-type {\n",
       "        vertical-align: middle;\n",
       "    }\n",
       "\n",
       "    .dataframe tbody tr th {\n",
       "        vertical-align: top;\n",
       "    }\n",
       "\n",
       "    .dataframe thead th {\n",
       "        text-align: right;\n",
       "    }\n",
       "</style>\n",
       "<table border=\"1\" class=\"dataframe\">\n",
       "  <thead>\n",
       "    <tr style=\"text-align: right;\">\n",
       "      <th></th>\n",
       "      <th>row</th>\n",
       "      <th>text</th>\n",
       "    </tr>\n",
       "  </thead>\n",
       "  <tbody>\n",
       "    <tr>\n",
       "      <th>0</th>\n",
       "      <td>1</td>\n",
       "      <td>dkl</td>\n",
       "    </tr>\n",
       "  </tbody>\n",
       "</table>\n",
       "</div>"
      ],
      "text/plain": [
       "  row text\n",
       "0   1  dkl"
      ]
     },
     "execution_count": 71,
     "metadata": {},
     "output_type": "execute_result"
    }
   ],
   "source": [
    "stn_info = pd.DataFrame(columns = ['row','text'])\n",
    "stn_info = stn_info.append(pd.DataFrame({'row': [1], 'text': ['dkl']}))\n",
    "stn_info"
   ]
  },
  {
   "cell_type": "code",
   "execution_count": 88,
   "metadata": {},
   "outputs": [
    {
     "data": {
      "text/plain": [
       "True"
      ]
     },
     "execution_count": 88,
     "metadata": {},
     "output_type": "execute_result"
    }
   ],
   "source": [
    "a in closest_weather_station['stn_id'].tolist()"
   ]
  },
  {
   "cell_type": "code",
   "execution_count": 50,
   "metadata": {},
   "outputs": [
    {
     "data": {
      "text/html": [
       "<div>\n",
       "<style scoped>\n",
       "    .dataframe tbody tr th:only-of-type {\n",
       "        vertical-align: middle;\n",
       "    }\n",
       "\n",
       "    .dataframe tbody tr th {\n",
       "        vertical-align: top;\n",
       "    }\n",
       "\n",
       "    .dataframe thead th {\n",
       "        text-align: right;\n",
       "    }\n",
       "</style>\n",
       "<table border=\"1\" class=\"dataframe\">\n",
       "  <thead>\n",
       "    <tr style=\"text-align: right;\">\n",
       "      <th></th>\n",
       "      <th>site</th>\n",
       "      <th>stn_id</th>\n",
       "      <th>stn_name</th>\n",
       "    </tr>\n",
       "  </thead>\n",
       "  <tbody>\n",
       "    <tr>\n",
       "      <th>0</th>\n",
       "      <td>INDU</td>\n",
       "      <td>726358-00384</td>\n",
       "      <td>Michigan City Airport</td>\n",
       "    </tr>\n",
       "    <tr>\n",
       "      <th>1</th>\n",
       "      <td>SOUTHERNMOST MAPLE</td>\n",
       "      <td>724115-93757</td>\n",
       "      <td>Ingalls Field Airport</td>\n",
       "    </tr>\n",
       "    <tr>\n",
       "      <th>2</th>\n",
       "      <td>DIVIDE RIDGE</td>\n",
       "      <td>724117-63802</td>\n",
       "      <td>Lonesome Pine Airport</td>\n",
       "    </tr>\n",
       "    <tr>\n",
       "      <th>3</th>\n",
       "      <td>NORTHERN RANGE - QUEBEC</td>\n",
       "      <td>716170-99999</td>\n",
       "      <td>Bagotville (CAN-MIL)</td>\n",
       "    </tr>\n",
       "    <tr>\n",
       "      <th>4</th>\n",
       "      <td>HARVARD FOREST</td>\n",
       "      <td>725085-54756</td>\n",
       "      <td>Orange Municipal Airport</td>\n",
       "    </tr>\n",
       "    <tr>\n",
       "      <th>5</th>\n",
       "      <td>DARTMOUTH ORGANIC FARM</td>\n",
       "      <td>726116-94765</td>\n",
       "      <td>Lebanon Municipal Airport</td>\n",
       "    </tr>\n",
       "  </tbody>\n",
       "</table>\n",
       "</div>"
      ],
      "text/plain": [
       "                      site        stn_id                   stn_name\n",
       "0                     INDU  726358-00384      Michigan City Airport\n",
       "1       SOUTHERNMOST MAPLE  724115-93757      Ingalls Field Airport\n",
       "2             DIVIDE RIDGE  724117-63802      Lonesome Pine Airport\n",
       "3  NORTHERN RANGE - QUEBEC  716170-99999       Bagotville (CAN-MIL)\n",
       "4           HARVARD FOREST  725085-54756   Orange Municipal Airport\n",
       "5   DARTMOUTH ORGANIC FARM  726116-94765  Lebanon Municipal Airport"
      ]
     },
     "execution_count": 50,
     "metadata": {},
     "output_type": "execute_result"
    }
   ],
   "source": [
    "closest_weather_station"
   ]
  },
  {
   "cell_type": "code",
   "execution_count": 3,
   "metadata": {},
   "outputs": [],
   "source": [
    "\n",
    "\n",
    "if not os.path.exists(raw_path + '/LEB'):\n",
    "    os.makedirs(raw_path + '/LEB')\n",
    "\n",
    "year = \"2010\"\n",
    "filename = \"726116-94765-2010.gz\"\n",
    "noaa_ftp.cwd(\"pub/data/noaa/\" + year)"
   ]
  },
  {
   "cell_type": "code",
   "execution_count": 40,
   "metadata": {},
   "outputs": [
    {
     "data": {
      "text/plain": [
       "'/home/steffen/UBC/personal/sapflow/src'"
      ]
     },
     "execution_count": 40,
     "metadata": {},
     "output_type": "execute_result"
    }
   ],
   "source": [
    "os.getcwd()"
   ]
  },
  {
   "cell_type": "code",
   "execution_count": 42,
   "metadata": {},
   "outputs": [],
   "source": [
    "with open(raw_path + '/LEB/' + filename, 'wb+') as stn_gz:\n",
    "        noaa_ftp.retrbinary('RETR ' + filename, stn_gz.write)"
   ]
  },
  {
   "cell_type": "code",
   "execution_count": 45,
   "metadata": {},
   "outputs": [],
   "source": [
    "with gzip.open(raw_path + '/LEB/' + filename, 'rb') as stn_data:\n",
    "    file_content = stn_data.read()\n"
   ]
  },
  {
   "cell_type": "code",
   "execution_count": 48,
   "metadata": {},
   "outputs": [
    {
     "ename": "NameError",
     "evalue": "name 'year_df' is not defined",
     "output_type": "error",
     "traceback": [
      "\u001b[0;31m---------------------------------------------------------------------------\u001b[0m",
      "\u001b[0;31mNameError\u001b[0m                                 Traceback (most recent call last)",
      "\u001b[0;32m<ipython-input-48-c64031095fe9>\u001b[0m in \u001b[0;36m<module>\u001b[0;34m\u001b[0m\n\u001b[1;32m      1\u001b[0m \u001b[0;32mwith\u001b[0m \u001b[0mgzip\u001b[0m\u001b[0;34m.\u001b[0m\u001b[0mopen\u001b[0m\u001b[0;34m(\u001b[0m\u001b[0mraw_path\u001b[0m \u001b[0;34m+\u001b[0m \u001b[0;34m'/LEB/'\u001b[0m \u001b[0;34m+\u001b[0m \u001b[0mfilename\u001b[0m\u001b[0;34m,\u001b[0m \u001b[0mmode\u001b[0m\u001b[0;34m=\u001b[0m\u001b[0;34m'rt'\u001b[0m\u001b[0;34m)\u001b[0m \u001b[0;32mas\u001b[0m \u001b[0mstn_data\u001b[0m\u001b[0;34m:\u001b[0m\u001b[0;34m\u001b[0m\u001b[0;34m\u001b[0m\u001b[0m\n\u001b[1;32m      2\u001b[0m     \u001b[0;32mfor\u001b[0m \u001b[0mi\u001b[0m\u001b[0;34m,\u001b[0m \u001b[0mline\u001b[0m \u001b[0;32min\u001b[0m \u001b[0menumerate\u001b[0m\u001b[0;34m(\u001b[0m\u001b[0mstn_data\u001b[0m\u001b[0;34m)\u001b[0m\u001b[0;34m:\u001b[0m\u001b[0;34m\u001b[0m\u001b[0;34m\u001b[0m\u001b[0m\n\u001b[0;32m----> 3\u001b[0;31m         \u001b[0myear_df\u001b[0m\u001b[0;34m.\u001b[0m\u001b[0mloc\u001b[0m\u001b[0;34m[\u001b[0m\u001b[0mi\u001b[0m\u001b[0;34m,\u001b[0m \u001b[0;34m'datetime'\u001b[0m\u001b[0;34m]\u001b[0m \u001b[0;34m=\u001b[0m \u001b[0mpd\u001b[0m\u001b[0;34m.\u001b[0m\u001b[0mto_datetime\u001b[0m\u001b[0;34m(\u001b[0m\u001b[0mline\u001b[0m\u001b[0;34m[\u001b[0m\u001b[0;36m15\u001b[0m\u001b[0;34m:\u001b[0m\u001b[0;36m27\u001b[0m\u001b[0;34m]\u001b[0m\u001b[0;34m)\u001b[0m\u001b[0;34m\u001b[0m\u001b[0;34m\u001b[0m\u001b[0m\n\u001b[0m\u001b[1;32m      4\u001b[0m         \u001b[0myear_df\u001b[0m\u001b[0;34m.\u001b[0m\u001b[0mloc\u001b[0m\u001b[0;34m[\u001b[0m\u001b[0mi\u001b[0m\u001b[0;34m,\u001b[0m \u001b[0;34m'airt'\u001b[0m\u001b[0;34m]\u001b[0m \u001b[0;34m=\u001b[0m \u001b[0mfloat\u001b[0m\u001b[0;34m(\u001b[0m\u001b[0mline\u001b[0m\u001b[0;34m[\u001b[0m\u001b[0;36m87\u001b[0m\u001b[0;34m:\u001b[0m\u001b[0;36m92\u001b[0m\u001b[0;34m]\u001b[0m\u001b[0;34m)\u001b[0m\u001b[0;34m/\u001b[0m\u001b[0;36m10\u001b[0m\u001b[0;34m\u001b[0m\u001b[0;34m\u001b[0m\u001b[0m\n",
      "\u001b[0;31mNameError\u001b[0m: name 'year_df' is not defined"
     ]
    }
   ],
   "source": [
    "with gzip.open(raw_path + '/LEB/' + filename, mode='rt') as stn_data:\n",
    "    for i, line in enumerate(stn_data):\n",
    "        year_df.loc[i, 'datetime'] = pd.to_datetime(line[15:27])\n",
    "        year_df.loc[i, 'airt'] = float(line[87:92])/10"
   ]
  },
  {
   "cell_type": "code",
   "execution_count": 22,
   "metadata": {},
   "outputs": [],
   "source": [
    "a=np.ndarray(shape13148).fill(np.nan)\n",
    "a"
   ]
  },
  {
   "cell_type": "code",
   "execution_count": 25,
   "metadata": {},
   "outputs": [
    {
     "data": {
      "text/plain": [
       "array([nan, nan, nan, nan, nan, nan, nan, nan, nan, nan, nan])"
      ]
     },
     "execution_count": 25,
     "metadata": {},
     "output_type": "execute_result"
    }
   ],
   "source": [
    "np.full(13148, np.nan)"
   ]
  },
  {
   "cell_type": "code",
   "execution_count": 47,
   "metadata": {},
   "outputs": [
    {
     "name": "stdout",
     "output_type": "stream",
     "text": [
      "48\n"
     ]
    }
   ],
   "source": [
    "for line in file_content:\n",
    "    print(line)\n",
    "    break"
   ]
  },
  {
   "cell_type": "code",
   "execution_count": 36,
   "metadata": {},
   "outputs": [
    {
     "data": {
      "text/plain": [
       "'221 Goodbye.'"
      ]
     },
     "execution_count": 36,
     "metadata": {},
     "output_type": "execute_result"
    }
   ],
   "source": [
    "noaa_ftp.quit()"
   ]
  },
  {
   "cell_type": "code",
   "execution_count": 27,
   "metadata": {},
   "outputs": [
    {
     "data": {
      "text/plain": [
       "'/home/steffen/UBC/personal/sapflow/src'"
      ]
     },
     "execution_count": 27,
     "metadata": {},
     "output_type": "execute_result"
    }
   ],
   "source": [
    "os.getcwd()"
   ]
  },
  {
   "cell_type": "code",
   "execution_count": 43,
   "metadata": {},
   "outputs": [
    {
     "data": {
      "text/html": [
       "<div>\n",
       "<style scoped>\n",
       "    .dataframe tbody tr th:only-of-type {\n",
       "        vertical-align: middle;\n",
       "    }\n",
       "\n",
       "    .dataframe tbody tr th {\n",
       "        vertical-align: top;\n",
       "    }\n",
       "\n",
       "    .dataframe thead th {\n",
       "        text-align: right;\n",
       "    }\n",
       "</style>\n",
       "<table border=\"1\" class=\"dataframe\">\n",
       "  <thead>\n",
       "    <tr style=\"text-align: right;\">\n",
       "      <th></th>\n",
       "      <th>lat</th>\n",
       "      <th>lon</th>\n",
       "      <th>short_name</th>\n",
       "      <th>long_name</th>\n",
       "      <th>state_province</th>\n",
       "    </tr>\n",
       "    <tr>\n",
       "      <th>site</th>\n",
       "      <th></th>\n",
       "      <th></th>\n",
       "      <th></th>\n",
       "      <th></th>\n",
       "      <th></th>\n",
       "    </tr>\n",
       "  </thead>\n",
       "  <tbody>\n",
       "    <tr>\n",
       "      <th>DOF</th>\n",
       "      <td>43.733800</td>\n",
       "      <td>-72.249000</td>\n",
       "      <td>Dartmouth</td>\n",
       "      <td>Dartmouth Organic Farm</td>\n",
       "      <td>NH</td>\n",
       "    </tr>\n",
       "    <tr>\n",
       "      <th>QC</th>\n",
       "      <td>48.430919</td>\n",
       "      <td>-70.688456</td>\n",
       "      <td>Boris</td>\n",
       "      <td>Boris</td>\n",
       "      <td>QC</td>\n",
       "    </tr>\n",
       "    <tr>\n",
       "      <th>HF</th>\n",
       "      <td>42.531500</td>\n",
       "      <td>-72.189900</td>\n",
       "      <td>Harvard</td>\n",
       "      <td>Harvard Forest</td>\n",
       "      <td>MA</td>\n",
       "    </tr>\n",
       "    <tr>\n",
       "      <th>INDU</th>\n",
       "      <td>41.625400</td>\n",
       "      <td>-87.081100</td>\n",
       "      <td>Indiana Dunes</td>\n",
       "      <td>Indiana Dunes National Lakeshore</td>\n",
       "      <td>IN</td>\n",
       "    </tr>\n",
       "    <tr>\n",
       "      <th>SMM</th>\n",
       "      <td>38.235181</td>\n",
       "      <td>-79.657058</td>\n",
       "      <td>Southernmost</td>\n",
       "      <td>Southernmost Maple</td>\n",
       "      <td>VA</td>\n",
       "    </tr>\n",
       "    <tr>\n",
       "      <th>DR</th>\n",
       "      <td>37.010800</td>\n",
       "      <td>-82.676400</td>\n",
       "      <td>Divide Ridge</td>\n",
       "      <td>Divide Ridge</td>\n",
       "      <td>VA</td>\n",
       "    </tr>\n",
       "  </tbody>\n",
       "</table>\n",
       "</div>"
      ],
      "text/plain": [
       "            lat        lon     short_name                         long_name  \\\n",
       "site                                                                          \n",
       "DOF   43.733800 -72.249000      Dartmouth            Dartmouth Organic Farm   \n",
       "QC    48.430919 -70.688456          Boris                             Boris   \n",
       "HF    42.531500 -72.189900        Harvard                    Harvard Forest   \n",
       "INDU  41.625400 -87.081100  Indiana Dunes  Indiana Dunes National Lakeshore   \n",
       "SMM   38.235181 -79.657058   Southernmost                Southernmost Maple   \n",
       "DR    37.010800 -82.676400   Divide Ridge                      Divide Ridge   \n",
       "\n",
       "     state_province  \n",
       "site                 \n",
       "DOF              NH  \n",
       "QC               QC  \n",
       "HF               MA  \n",
       "INDU             IN  \n",
       "SMM              VA  \n",
       "DR               VA  "
      ]
     },
     "execution_count": 43,
     "metadata": {},
     "output_type": "execute_result"
    }
   ],
   "source": [
    "location = pd.read_csv('../data/raw/stinson2019/ACERnet_LatLon.csv')\n",
    "location = location.rename(columns = {'Site':'site', 'Loc':'state_province'})\n",
    "location = location.set_index('site')\n",
    "\n",
    "# Fix inconsistency in acronym for Quebec site between data tables\n",
    "if 'QB' in location.index:\n",
    "    location = location.rename({'QB': 'QC'}, axis='index')\n",
    "    location.loc['QC',:] = location.loc['QC',:].replace(regex =[r'^QB$'], value = 'QC')\n",
    "    \n",
    "location = location[['lat', 'lon', 'short_name', 'long_name', 'state_province']]\n",
    "location"
   ]
  },
  {
   "cell_type": "code",
   "execution_count": 45,
   "metadata": {},
   "outputs": [
    {
     "data": {
      "text/html": [
       "<div>\n",
       "<style scoped>\n",
       "    .dataframe tbody tr th:only-of-type {\n",
       "        vertical-align: middle;\n",
       "    }\n",
       "\n",
       "    .dataframe tbody tr th {\n",
       "        vertical-align: top;\n",
       "    }\n",
       "\n",
       "    .dataframe thead th {\n",
       "        text-align: right;\n",
       "    }\n",
       "</style>\n",
       "<table border=\"1\" class=\"dataframe\">\n",
       "  <thead>\n",
       "    <tr style=\"text-align: right;\">\n",
       "      <th></th>\n",
       "      <th>stn_id</th>\n",
       "      <th>lat</th>\n",
       "      <th>lon</th>\n",
       "    </tr>\n",
       "  </thead>\n",
       "  <tbody>\n",
       "    <tr>\n",
       "      <th>0</th>\n",
       "      <td>INDU</td>\n",
       "      <td>0</td>\n",
       "      <td>0</td>\n",
       "    </tr>\n",
       "    <tr>\n",
       "      <th>1</th>\n",
       "      <td>SOUTHERNMOST MAPLE</td>\n",
       "      <td>0</td>\n",
       "      <td>0</td>\n",
       "    </tr>\n",
       "    <tr>\n",
       "      <th>2</th>\n",
       "      <td>DIVIDE RIDGE</td>\n",
       "      <td>0</td>\n",
       "      <td>0</td>\n",
       "    </tr>\n",
       "    <tr>\n",
       "      <th>3</th>\n",
       "      <td>NORTHERN RANGE - QUEBEC</td>\n",
       "      <td>0</td>\n",
       "      <td>0</td>\n",
       "    </tr>\n",
       "    <tr>\n",
       "      <th>4</th>\n",
       "      <td>HARVARD FOREST</td>\n",
       "      <td>0</td>\n",
       "      <td>0</td>\n",
       "    </tr>\n",
       "    <tr>\n",
       "      <th>5</th>\n",
       "      <td>DARTMOUTH ORGANIC FARM</td>\n",
       "      <td>0</td>\n",
       "      <td>0</td>\n",
       "    </tr>\n",
       "  </tbody>\n",
       "</table>\n",
       "</div>"
      ],
      "text/plain": [
       "                    stn_id  lat  lon\n",
       "0                     INDU    0    0\n",
       "1       SOUTHERNMOST MAPLE    0    0\n",
       "2             DIVIDE RIDGE    0    0\n",
       "3  NORTHERN RANGE - QUEBEC    0    0\n",
       "4           HARVARD FOREST    0    0\n",
       "5   DARTMOUTH ORGANIC FARM    0    0"
      ]
     },
     "execution_count": 45,
     "metadata": {},
     "output_type": "execute_result"
    }
   ],
   "source": [
    "stn_ids = [['INDU', '726358-00384', 'Michigan City Airport'],\n",
    "           ['SOUTHERNMOST MAPLE', '724115-93757', 'Ingalls Field Airport'],\n",
    "           ['DIVIDE RIDGE', '724117-63802', 'Lonesome Pine Airport'],\n",
    "           ['NORTHERN RANGE - QUEBEC', '716170-99999', 'Bagotville (CAN-MIL)'],\n",
    "           ['HARVARD FOREST', '725085-54756', 'Orange Municipal Airport'],\n",
    "           ['DARTMOUTH ORGANIC FARM', '726116-94765', 'Lebanon Municipal Airport']]\n",
    "\n",
    "closest_weather_station = pd.DataFrame(stn_ids, columns = ['site', 'stn_id','stn_name'])\n",
    "closest_weather_station\n",
    "\n",
    "weather_stn = pd.DataFrame({'stn_id':closest_weather_station['site'], 'lat':0, 'lon':0})\n",
    "weather_stn"
   ]
  },
  {
   "cell_type": "markdown",
   "metadata": {},
   "source": [
    "Indiana Dunes National Lakeshore - INDU\n",
    "726358-00384 -- Michigan City Airport\n",
    "\n",
    "Southernmost Maple\n",
    "724115-93757 -- Ingalls Field Airport\n",
    "\n",
    "Divide Ridge\n",
    "724117-63802 -- Lonesome Pine Airport\n",
    "\n",
    "Boris\n",
    "716170-99999 -- Bagotville (CAN-MIL)\n",
    "\n",
    "Harvard Forest\n",
    "725085-54756 -- Orange Municipal Airport\n",
    "\n",
    "Dartmouth Organic Farm\n",
    "726116-94765 -- Lebanon Municipal Airport \n"
   ]
  },
  {
   "cell_type": "code",
   "execution_count": null,
   "metadata": {},
   "outputs": [],
   "source": []
  }
 ],
 "metadata": {
  "kernelspec": {
   "display_name": "Python 3",
   "language": "python",
   "name": "python3"
  },
  "language_info": {
   "codemirror_mode": {
    "name": "ipython",
    "version": 3
   },
   "file_extension": ".py",
   "mimetype": "text/x-python",
   "name": "python",
   "nbconvert_exporter": "python",
   "pygments_lexer": "ipython3",
   "version": "3.8.3"
  }
 },
 "nbformat": 4,
 "nbformat_minor": 4
}
