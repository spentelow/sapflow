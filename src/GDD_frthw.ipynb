{
 "cells": [
  {
   "cell_type": "code",
   "execution_count": 1,
   "metadata": {},
   "outputs": [],
   "source": [
    "import numpy as np\n",
    "import pandas as pd"
   ]
  },
  {
   "cell_type": "code",
   "execution_count": 2,
   "metadata": {},
   "outputs": [
    {
     "name": "stderr",
     "output_type": "stream",
     "text": [
      "/home/steffen/miniconda3/lib/python3.8/site-packages/IPython/core/interactiveshell.py:3145: DtypeWarning: Columns (3,5,7,9,11,13,15,17,19,21,23,25,27,29) have mixed types.Specify dtype option on import or set low_memory=False.\n",
      "  has_raised = await self.run_ast_nodes(code_ast.body, cell_name,\n"
     ]
    }
   ],
   "source": [
    "HF_weather = pd.read_csv('../data/HF_weather/raw/hf001-08-hourly-m.csv', parse_dates=['datetime'])"
   ]
  },
  {
   "cell_type": "code",
   "execution_count": 3,
   "metadata": {},
   "outputs": [],
   "source": [
    "def get_gdd(data, stn_id, tbase=5, datetime=\"datetime\", airtemp=\"airt\"):\n",
    "    \"\"\"Calculate cumulative growing degree days (GDD) from weather station data\n",
    "\n",
    "    Parameters\n",
    "    ----------\n",
    "    data : DataFrame\n",
    "        Weather station data.\n",
    "    stn_id : str\n",
    "        Name of weather station where data is from.\n",
    "    tbase : int, optional\n",
    "        GDD base temperature, by default 5\n",
    "    datetime : str, optional\n",
    "        Name of datetime column in 'data', by default \"datetime\"\n",
    "    airtemp : str, optional\n",
    "        Name of air temperature column in 'data', by default \"airt\"\n",
    "\n",
    "    Returns\n",
    "    -------\n",
    "    DataFrame\n",
    "        Table containing mean daily air temperature and cumulative GDD (resets\n",
    "        on January 1st each year).  One row per day.\n",
    "    \"\"\"\n",
    "    gdd_df = (\n",
    "        data[[datetime, airtemp]]\n",
    "        .groupby(pd.Grouper(key=datetime, freq=\"1D\"))\n",
    "        .mean()\n",
    "        .reset_index()\n",
    "    )\n",
    "    gdd_df.rename(columns={airtemp: \"mean_airt\"}, inplace=True)\n",
    "    gdd_df[\"GDD\"] = gdd_df[[\"mean_airt\"]].applymap(\n",
    "        lambda x: 0 if x <= tbase else x - tbase\n",
    "    )\n",
    "\n",
    "    data_datetime = pd.DatetimeIndex(gdd_df[datetime])\n",
    "\n",
    "    for year in data_datetime.year.unique():\n",
    "        gdd_df.loc[(data_datetime.year == year), \"cumGDD\"] = gdd_df[\n",
    "            data_datetime.year == year\n",
    "        ][\"GDD\"].cumsum()\n",
    "\n",
    "    gdd_df[\"STN\"] = stn_id\n",
    "\n",
    "    return gdd_df"
   ]
  },
  {
   "cell_type": "code",
   "execution_count": 4,
   "metadata": {},
   "outputs": [],
   "source": [
    "def get_frthw(data, stn_id, threshold=0, datetime=\"datetime\", airtemp=\"airt\"):\n",
    "    \"\"\"Calculate cumulative freeze-thaw cycles from weather station data.\n",
    "\n",
    "    Parameters\n",
    "    ----------\n",
    "    data : DataFrame\n",
    "        Weather station data.\n",
    "    stn_id : str\n",
    "        Name of weather station where data is from.\n",
    "    threshold : int, optional\n",
    "        Freeze-thaw temperature threshold, by default 0\n",
    "    datetime : str, optional\n",
    "        Name of datetime column in 'data', by default \"datetime\"\n",
    "    airtemp : str, optional\n",
    "        Name of air temperature column in 'data', by default \"airt\"\n",
    "\n",
    "    Returns\n",
    "    -------\n",
    "    DataFrame\n",
    "        Table containing cumulative freeze-thaw cycles (resets on\n",
    "        January 1st each year).  One row per day.\n",
    "    \"\"\"\n",
    "\n",
    "    # Initialize summary dataframe\n",
    "    frthw_df = pd.DataFrame()\n",
    "\n",
    "    data_datetime = pd.DatetimeIndex(data[datetime])\n",
    "    data[\"frthw\"] = np.nan\n",
    "\n",
    "    for year in data_datetime.year.unique():\n",
    "\n",
    "        year_data = data.loc[\n",
    "            (data_datetime.year == year), [datetime, airtemp, \"frthw\"]\n",
    "        ]\n",
    "        frthw = (\n",
    "            0.5 if year_data.iloc[0, 1] > threshold else 0\n",
    "        )  # If first temp reading is above threshold, start frthw at 0.5\n",
    "\n",
    "        for obs in range(year_data.shape[0]):\n",
    "            if frthw % 1 == 0:\n",
    "                if year_data.iloc[obs, 1] >= threshold:\n",
    "                    frthw += 0.5\n",
    "            else:\n",
    "                if year_data.iloc[obs, 1] < threshold:\n",
    "                    frthw += 0.5\n",
    "            year_data.iloc[obs, 2] = frthw\n",
    "\n",
    "        year_data = year_data.drop(columns=[airtemp])\n",
    "        year_data = year_data.set_index(datetime).resample(\"1D\").last()\n",
    "        frthw_df = frthw_df.append(year_data)\n",
    "\n",
    "    frthw_df[\"STN\"] = stn_id\n",
    "\n",
    "    return frthw_df"
   ]
  },
  {
   "cell_type": "code",
   "execution_count": 5,
   "metadata": {},
   "outputs": [],
   "source": [
    "tbase = 5  # Growing degree day base temperature\n",
    "gdd = get_gdd(HF_weather, \"HF001\", tbase=tbase)\n",
    "\n",
    "threshold = 3  # Freeze-thaw temperature threshold\n",
    "frzthw = get_frthw(HF_weather, \"HF001\", threshold=threshold)\n",
    "\n",
    "gdd_frthw = pd.concat([gdd, frzthw.reset_index()[\"frthw\"]], axis=1)"
   ]
  },
  {
   "cell_type": "code",
   "execution_count": 6,
   "metadata": {},
   "outputs": [],
   "source": [
    "gdd_frthw.to_pickle('../data/HF_weather/gdd_frthw')"
   ]
  }
 ],
 "metadata": {
  "kernelspec": {
   "display_name": "Python 3",
   "language": "python",
   "name": "python3"
  },
  "language_info": {
   "codemirror_mode": {
    "name": "ipython",
    "version": 3
   },
   "file_extension": ".py",
   "mimetype": "text/x-python",
   "name": "python",
   "nbconvert_exporter": "python",
   "pygments_lexer": "ipython3",
   "version": "3.8.3"
  }
 },
 "nbformat": 4,
 "nbformat_minor": 4
}
