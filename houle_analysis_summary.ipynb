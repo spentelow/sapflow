{
 "cells": [
  {
   "cell_type": "code",
   "execution_count": 1,
   "metadata": {},
   "outputs": [],
   "source": [
    "import numpy as np\n",
    "import pandas as pd\n",
    "\n",
    "import altair as alt\n",
    "\n",
    "# Save a vega-lite spec and a PNG blob for each plot in the notebook\n",
    "alt.renderers.enable(\"mimetype\")\n",
    "# Handle large data sets without embedding them in the notebook\n",
    "alt.data_transformers.enable(\"data_server\")\n",
    "alt.data_transformers.disable_max_rows()"
   ]
  },
  {
   "cell_type": "code",
   "execution_count": 2,
   "metadata": {},
   "outputs": [],
   "source": [
    "# Load sap measurement data\n",
    "sap_sugar_df = pd.read_pickle(\n",
    "    \"data/processed/stinson2019/norm_tables/sap_sugar_weekly_summary\"\n",
    ")\n",
    "\n",
    "\n",
    "# Load freeze/thaw and growing degree data for a given weather station and associate with a sap measurement site\n",
    "gdd_frthw = pd.read_pickle(\"data/processed/stinson2019/norm_tables/gdd_frthw\")\n",
    "closest_weather_stn = pd.read_pickle(\n",
    "    \"data/processed/stinson2019/norm_tables/closest_weather_stn\"\n",
    ")\n",
    "gdd_frthw = gdd_frthw.merge(closest_weather_stn.reset_index(), how=\"left\", on=\"stn_id\")\n",
    "gdd_frthw = gdd_frthw.set_index(\"datetime\")\n",
    "\n",
    "# Load information on sap measurement sites\n",
    "location = pd.read_pickle(\"data/processed/stinson2019/norm_tables/location\")"
   ]
  },
  {
   "cell_type": "code",
   "execution_count": 4,
   "metadata": {},
   "outputs": [],
   "source": [
    "# Create a dataframe (`full_sap`) which contains information on both sap flow and the growing degree days and freeze/thaw cycles for all tap/year combinations\n",
    "\n",
    "full_sap = pd.DataFrame(\n",
    "    columns=[\n",
    "        \"tap_id\",\n",
    "        \"date_from\",\n",
    "        \"date_to\",\n",
    "        \"weekly_sugarwt\",\n",
    "        \"weekly_sap\",\n",
    "        \"site\",\n",
    "        \"cumGDD\",\n",
    "        \"cum_frthw\",\n",
    "        \"weekly_frthw\",\n",
    "        \"sap_binary\",\n",
    "    ]\n",
    ")\n",
    "\n",
    "for site in sap_sugar_df.site.unique():\n",
    "    sap_sugar_site = sap_sugar_df[sap_sugar_df.site == site]\n",
    "    for tap in sap_sugar_site.tap_id.unique():\n",
    "        sap_sugar_tap = sap_sugar_site[sap_sugar_site.tap_id == tap]\n",
    "        for year in sap_sugar_tap.date_to.dt.year.unique():\n",
    "            sap_sugar_year = sap_sugar_tap[sap_sugar_tap.date_to.dt.year == year].drop(\n",
    "                columns=[\"site\"]\n",
    "            )\n",
    "\n",
    "            # Merge weather from local station with sap measurements for a given tap and year\n",
    "            sap_sugar_year = sap_sugar_year.merge(\n",
    "                gdd_frthw[(gdd_frthw.site == site) & (gdd_frthw.index.year == year)],\n",
    "                how=\"right\",\n",
    "                left_on=[\"date_to\"],\n",
    "                right_index=True,\n",
    "            )\n",
    "\n",
    "            # Add missing dates, tapids to df\n",
    "            sap_sugar_year.loc[:, \"date_from\"] = sap_sugar_year.loc[\n",
    "                :, \"date_to\"\n",
    "            ] - pd.DateOffset(6)\n",
    "            sap_sugar_year[\"weather_datetime\"] = sap_sugar_year.date_to\n",
    "            sap_sugar_year[\"tap_id\"] = sap_sugar_year[\"tap_id\"].fillna(tap)\n",
    "\n",
    "            # Fill in missing 0 values\n",
    "            sap_sugar_year.loc[:, \"weekly_sugarwt\"] = sap_sugar_year.loc[\n",
    "                :, \"weekly_sugarwt\"\n",
    "            ].fillna(0)\n",
    "            sap_sugar_year.loc[:, \"weekly_sap\"] = sap_sugar_year.loc[\n",
    "                :, \"weekly_sap\"\n",
    "            ].fillna(0)\n",
    "\n",
    "            #             # For future implementation\n",
    "            #             # Add total weekly freeze-thaw cycles column (week ending on date 'date_to')\n",
    "            #             sap_sugar_year = sap_sugar_year.rename(columns={'frthw':'cum_frthw'})\n",
    "            #             sap_sugar_year.loc[:, \"weekly_frthw\"] = sap_sugar_year.loc[:, \"cum_frthw\"] - sap_sugar_year.loc[:, \"cum_frthw\"].shift(6)\n",
    "\n",
    "            # Add column indicating if there was any sap flow in a given week\n",
    "            sap_sugar_year[\"sap_binary\"] = sap_sugar_year[\"weekly_sap\"].apply(\n",
    "                lambda x: 0 if ((pd.isnull(x)) | (x == 0)) else 1\n",
    "            )\n",
    "\n",
    "            full_sap = full_sap.append(sap_sugar_year)\n",
    "\n",
    "# Create row indicating if there is (1) or is not (0) sap flow in a given week (week ending on 'date_to')\n",
    "full_sap.sap_binary = full_sap.sap_binary.astype(\"int\")\n",
    "full_sap.reset_index(inplace=True)"
   ]
  },
  {
   "cell_type": "markdown",
   "metadata": {},
   "source": [
    "Houle et al. (2015) created a logistic regression model to predict the presence or absence of maple syrup production in a given week.  The following linear function was developed based on their measured data (note: signs have been reversed:\n",
    "\n",
    "$$ P = -5.09 + 0.722F - 0.014F^2 - 0.07G$$\n",
    "\n",
    "Where:\n",
    "\n",
    "$P$ = Predictor of whether there will or will not be sap flowing in a given week (variable is labelled 'Production' in Houle et al., 2015)\n",
    "\n",
    "$F$ = Cumulative number of freeze/thaw events since the beginning of the year (January 1st).  A freeze/thaw event is counted if the temperature rises above a given threshold ($T_{thresh}$) and drops below it again.  A threshold of 3&deg;C has been used as in Houle et al., 2015.\n",
    "\n",
    "$G$ = Cumulative number of growing degree days since the beginning of the year (January 1st) using a 5&deg;C base temperature ($T_{base}$).  Each day, the maximum air temperature ($T_{max}$is extracted and, if it is above the $T_{base}$, a value of $T_{base} - T_{max}$ is added to the running total of growing degree days ($G$).\n",
    "\n",
    "Passing $P$ into a sigmoid function and applying a threshold of 0.51, we end up with a prediction of whether there will or will not be sap flow in a given week.\n",
    "\n",
    "$$\\hat{Y} = \\begin{cases}\n",
    "1 & \\text{if} \\ \\frac{1}{1+e^{-P}} \\geq 0.51 \\\\\n",
    "0 & \\text{if} \\ \\frac{1}{1+e^{-P}} < 0.51\n",
    "\\end{cases}\n",
    "$$\n"
   ]
  },
  {
   "cell_type": "code",
   "execution_count": 6,
   "metadata": {},
   "outputs": [],
   "source": [
    "# Coefficients of linear model created by Houle 2015 and threshold for predicting 'True' for sap flow from logistic function\n",
    "houle_coeff = np.array([-5.09, 0.733, -0.014, -0.07])\n",
    "houle_thresh = 0.51\n",
    "\n",
    "# Create dataframe of parameters required for Houle 2015 analysis\n",
    "houle2015 = full_sap[\n",
    "    [\"site\", \"tap_id\", \"date_from\", \"date_to\", \"cum_frthw\", \"cumGDD\", \"sap_binary\"]\n",
    "]\n",
    "houle2015 = houle2015.rename(\n",
    "    columns={\"cum_frthw\": \"F\", \"cumGDD\": \"G\", \"sap_binary\": \"Y\"}\n",
    ")\n",
    "\n",
    "houle2015[\"F2\"] = houle2015.F ** 2  # Add F**2 column\n",
    "houle2015[\"bias\"] = 1  # Add bias column\n",
    "\n",
    "\n",
    "# Calculations to generate weekly sapflow predictions based on model by Houle et al., 2015\n",
    "houle2015.loc[:, \"P\"] = houle2015[[\"bias\", \"F\", \"F2\", \"G\"]] @ (houle_coeff)\n",
    "houle2015.loc[:, \"S\"] = 1 / (\n",
    "    1 + np.exp(-houle2015[\"P\"])\n",
    ")  # Add intermediate sigmoid output column 'S'\n",
    "houle2015.loc[:, \"Y_hat\"] = (houle2015[\"S\"] > houle_thresh).astype(\n",
    "    \"int\"\n",
    ")  # Threshold determined by Houle 2015\n",
    "houle2015.loc[:, \"correct\"] = (houle2015.Y_hat == houle2015.Y).astype(\n",
    "    \"int\"\n",
    ")  # Add column indicating if prediction was correct or not\n",
    "\n",
    "\n",
    "houle2015[\"jd\"] = houle2015[\"date_to\"].dt.dayofyear\n",
    "houle2015[\"year\"] = houle2015[\"date_to\"].dt.year\n",
    "\n",
    "# Add columns to count number of true positives, false positives, false negatives, and true negatives\n",
    "houle2015[\"tp\"] = houle2015.apply(\n",
    "    lambda x: 1 if (x.Y == 1 and x.Y_hat == 1) else 0, axis=1\n",
    ")\n",
    "houle2015[\"fp\"] = houle2015.apply(\n",
    "    lambda x: 1 if (x.Y == 0 and x.Y_hat == 1) else 0, axis=1\n",
    ")\n",
    "houle2015[\"fn\"] = houle2015.apply(\n",
    "    lambda x: 1 if (x.Y == 1 and x.Y_hat == 0) else 0, axis=1\n",
    ")\n",
    "houle2015[\"tn\"] = houle2015.apply(\n",
    "    lambda x: 1 if (x.Y == 0 and x.Y_hat == 0) else 0, axis=1\n",
    ")"
   ]
  },
  {
   "cell_type": "code",
   "execution_count": 7,
   "metadata": {},
   "outputs": [
    {
     "data": {
      "text/html": [
       "<div>\n",
       "<style scoped>\n",
       "    .dataframe tbody tr th:only-of-type {\n",
       "        vertical-align: middle;\n",
       "    }\n",
       "\n",
       "    .dataframe tbody tr th {\n",
       "        vertical-align: top;\n",
       "    }\n",
       "\n",
       "    .dataframe thead th {\n",
       "        text-align: right;\n",
       "    }\n",
       "</style>\n",
       "<table border=\"1\" class=\"dataframe\">\n",
       "  <thead>\n",
       "    <tr style=\"text-align: right;\">\n",
       "      <th></th>\n",
       "      <th>tap_id</th>\n",
       "      <th>year</th>\n",
       "      <th>site</th>\n",
       "      <th>tn</th>\n",
       "      <th>fp</th>\n",
       "      <th>fn</th>\n",
       "      <th>tp</th>\n",
       "      <th>precision_1</th>\n",
       "      <th>precision_0</th>\n",
       "      <th>long_name</th>\n",
       "      <th>state_province</th>\n",
       "      <th>loc</th>\n",
       "    </tr>\n",
       "  </thead>\n",
       "  <tbody>\n",
       "    <tr>\n",
       "      <th>0</th>\n",
       "      <td>DOF10A</td>\n",
       "      <td>2014</td>\n",
       "      <td>DOF</td>\n",
       "      <td>265</td>\n",
       "      <td>62</td>\n",
       "      <td>21</td>\n",
       "      <td>17</td>\n",
       "      <td>0.447368</td>\n",
       "      <td>0.810398</td>\n",
       "      <td>Dartmouth Organic Farm</td>\n",
       "      <td>NH</td>\n",
       "      <td>Dartmouth Organic Farm, NH</td>\n",
       "    </tr>\n",
       "    <tr>\n",
       "      <th>1</th>\n",
       "      <td>DOF10A</td>\n",
       "      <td>2015</td>\n",
       "      <td>DOF</td>\n",
       "      <td>322</td>\n",
       "      <td>3</td>\n",
       "      <td>4</td>\n",
       "      <td>36</td>\n",
       "      <td>0.900000</td>\n",
       "      <td>0.990769</td>\n",
       "      <td>Dartmouth Organic Farm</td>\n",
       "      <td>NH</td>\n",
       "      <td>Dartmouth Organic Farm, NH</td>\n",
       "    </tr>\n",
       "    <tr>\n",
       "      <th>2</th>\n",
       "      <td>DOF10A</td>\n",
       "      <td>2016</td>\n",
       "      <td>DOF</td>\n",
       "      <td>290</td>\n",
       "      <td>28</td>\n",
       "      <td>32</td>\n",
       "      <td>16</td>\n",
       "      <td>0.333333</td>\n",
       "      <td>0.911950</td>\n",
       "      <td>Dartmouth Organic Farm</td>\n",
       "      <td>NH</td>\n",
       "      <td>Dartmouth Organic Farm, NH</td>\n",
       "    </tr>\n",
       "    <tr>\n",
       "      <th>3</th>\n",
       "      <td>DOF10A</td>\n",
       "      <td>2017</td>\n",
       "      <td>DOF</td>\n",
       "      <td>290</td>\n",
       "      <td>40</td>\n",
       "      <td>14</td>\n",
       "      <td>21</td>\n",
       "      <td>0.600000</td>\n",
       "      <td>0.878788</td>\n",
       "      <td>Dartmouth Organic Farm</td>\n",
       "      <td>NH</td>\n",
       "      <td>Dartmouth Organic Farm, NH</td>\n",
       "    </tr>\n",
       "    <tr>\n",
       "      <th>4</th>\n",
       "      <td>DOF10B</td>\n",
       "      <td>2014</td>\n",
       "      <td>DOF</td>\n",
       "      <td>265</td>\n",
       "      <td>68</td>\n",
       "      <td>21</td>\n",
       "      <td>11</td>\n",
       "      <td>0.343750</td>\n",
       "      <td>0.795796</td>\n",
       "      <td>Dartmouth Organic Farm</td>\n",
       "      <td>NH</td>\n",
       "      <td>Dartmouth Organic Farm, NH</td>\n",
       "    </tr>\n",
       "    <tr>\n",
       "      <th>...</th>\n",
       "      <td>...</td>\n",
       "      <td>...</td>\n",
       "      <td>...</td>\n",
       "      <td>...</td>\n",
       "      <td>...</td>\n",
       "      <td>...</td>\n",
       "      <td>...</td>\n",
       "      <td>...</td>\n",
       "      <td>...</td>\n",
       "      <td>...</td>\n",
       "      <td>...</td>\n",
       "      <td>...</td>\n",
       "    </tr>\n",
       "    <tr>\n",
       "      <th>547</th>\n",
       "      <td>SMAS6A</td>\n",
       "      <td>2016</td>\n",
       "      <td>SMM</td>\n",
       "      <td>305</td>\n",
       "      <td>43</td>\n",
       "      <td>0</td>\n",
       "      <td>18</td>\n",
       "      <td>1.000000</td>\n",
       "      <td>0.876437</td>\n",
       "      <td>Southernmost Maple</td>\n",
       "      <td>VA</td>\n",
       "      <td>Southernmost Maple, VA</td>\n",
       "    </tr>\n",
       "    <tr>\n",
       "      <th>548</th>\n",
       "      <td>SMAS7A</td>\n",
       "      <td>2016</td>\n",
       "      <td>SMM</td>\n",
       "      <td>305</td>\n",
       "      <td>44</td>\n",
       "      <td>0</td>\n",
       "      <td>17</td>\n",
       "      <td>1.000000</td>\n",
       "      <td>0.873926</td>\n",
       "      <td>Southernmost Maple</td>\n",
       "      <td>VA</td>\n",
       "      <td>Southernmost Maple, VA</td>\n",
       "    </tr>\n",
       "    <tr>\n",
       "      <th>549</th>\n",
       "      <td>SMAS7B</td>\n",
       "      <td>2016</td>\n",
       "      <td>SMM</td>\n",
       "      <td>305</td>\n",
       "      <td>44</td>\n",
       "      <td>0</td>\n",
       "      <td>17</td>\n",
       "      <td>1.000000</td>\n",
       "      <td>0.873926</td>\n",
       "      <td>Southernmost Maple</td>\n",
       "      <td>VA</td>\n",
       "      <td>Southernmost Maple, VA</td>\n",
       "    </tr>\n",
       "    <tr>\n",
       "      <th>550</th>\n",
       "      <td>SMAS8A</td>\n",
       "      <td>2016</td>\n",
       "      <td>SMM</td>\n",
       "      <td>305</td>\n",
       "      <td>43</td>\n",
       "      <td>0</td>\n",
       "      <td>18</td>\n",
       "      <td>1.000000</td>\n",
       "      <td>0.876437</td>\n",
       "      <td>Southernmost Maple</td>\n",
       "      <td>VA</td>\n",
       "      <td>Southernmost Maple, VA</td>\n",
       "    </tr>\n",
       "    <tr>\n",
       "      <th>551</th>\n",
       "      <td>SMAS8B</td>\n",
       "      <td>2016</td>\n",
       "      <td>SMM</td>\n",
       "      <td>305</td>\n",
       "      <td>43</td>\n",
       "      <td>0</td>\n",
       "      <td>18</td>\n",
       "      <td>1.000000</td>\n",
       "      <td>0.876437</td>\n",
       "      <td>Southernmost Maple</td>\n",
       "      <td>VA</td>\n",
       "      <td>Southernmost Maple, VA</td>\n",
       "    </tr>\n",
       "  </tbody>\n",
       "</table>\n",
       "<p>552 rows × 12 columns</p>\n",
       "</div>"
      ],
      "text/plain": [
       "     tap_id  year site   tn  fp  fn  tp  precision_1  precision_0  \\\n",
       "0    DOF10A  2014  DOF  265  62  21  17     0.447368     0.810398   \n",
       "1    DOF10A  2015  DOF  322   3   4  36     0.900000     0.990769   \n",
       "2    DOF10A  2016  DOF  290  28  32  16     0.333333     0.911950   \n",
       "3    DOF10A  2017  DOF  290  40  14  21     0.600000     0.878788   \n",
       "4    DOF10B  2014  DOF  265  68  21  11     0.343750     0.795796   \n",
       "..      ...   ...  ...  ...  ..  ..  ..          ...          ...   \n",
       "547  SMAS6A  2016  SMM  305  43   0  18     1.000000     0.876437   \n",
       "548  SMAS7A  2016  SMM  305  44   0  17     1.000000     0.873926   \n",
       "549  SMAS7B  2016  SMM  305  44   0  17     1.000000     0.873926   \n",
       "550  SMAS8A  2016  SMM  305  43   0  18     1.000000     0.876437   \n",
       "551  SMAS8B  2016  SMM  305  43   0  18     1.000000     0.876437   \n",
       "\n",
       "                  long_name state_province                         loc  \n",
       "0    Dartmouth Organic Farm             NH  Dartmouth Organic Farm, NH  \n",
       "1    Dartmouth Organic Farm             NH  Dartmouth Organic Farm, NH  \n",
       "2    Dartmouth Organic Farm             NH  Dartmouth Organic Farm, NH  \n",
       "3    Dartmouth Organic Farm             NH  Dartmouth Organic Farm, NH  \n",
       "4    Dartmouth Organic Farm             NH  Dartmouth Organic Farm, NH  \n",
       "..                      ...            ...                         ...  \n",
       "547      Southernmost Maple             VA      Southernmost Maple, VA  \n",
       "548      Southernmost Maple             VA      Southernmost Maple, VA  \n",
       "549      Southernmost Maple             VA      Southernmost Maple, VA  \n",
       "550      Southernmost Maple             VA      Southernmost Maple, VA  \n",
       "551      Southernmost Maple             VA      Southernmost Maple, VA  \n",
       "\n",
       "[552 rows x 12 columns]"
      ]
     },
     "execution_count": 7,
     "metadata": {},
     "output_type": "execute_result"
    }
   ],
   "source": [
    "# Calculate summary of performance of Houle et al., 2015 model in terms of precision of prediction for weeks with sap flow (`precision_1`) \n",
    "# and prediction of weeks without sap flow (`precision_0`).\n",
    "houle_summary = (\n",
    "    houle2015[[\"site\", \"tap_id\", \"year\", \"tn\", \"fp\", \"fn\", \"tp\"]]\n",
    "    .groupby([\"tap_id\", \"year\", \"site\"])\n",
    "    .sum()\n",
    ")\n",
    "houle_summary[\"precision_1\"] = houle_summary.tp / (houle_summary.tp + houle_summary.fn)\n",
    "houle_summary[\"precision_0\"] = houle_summary.tn / (houle_summary.tn + houle_summary.fp)\n",
    "houle_summary = houle_summary.reset_index()\n",
    "houle_summary = houle_summary.merge(\n",
    "    location.reset_index()[[\"site\", \"long_name\", \"state_province\"]],\n",
    "    on=\"site\",\n",
    "    how=\"left\",\n",
    ")\n",
    "houle_summary[\"loc\"] = houle_summary.long_name + \", \" + houle_summary.state_province\n",
    "houle_summary"
   ]
  },
  {
   "cell_type": "code",
   "execution_count": 77,
   "metadata": {},
   "outputs": [
    {
     "data": {
      "application/vnd.vegalite.v4+json": {
       "$schema": "https://vega.github.io/schema/vega-lite/v4.8.1.json",
       "config": {
        "view": {
         "continuousHeight": 300,
         "continuousWidth": 400
        }
       },
       "hconcat": [
        {
         "layer": [
          {
           "data": {
            "url": "http://localhost:20264/5870d734101725cf9aae471656d70c80.json"
           },
           "encoding": {
            "color": {
             "field": "loc",
             "legend": null,
             "type": "nominal"
            },
            "x": {
             "field": "loc",
             "title": "Site Location",
             "type": "nominal"
            },
            "y": {
             "field": "precision_1",
             "title": "Precision of prediction of weeks with sap flow",
             "type": "quantitative"
            }
           },
           "mark": "boxplot"
          },
          {
           "data": {
            "url": "http://localhost:20264/0b413c603de6abb7ee2cbb78f2cf6ff0.json"
           },
           "encoding": {
            "y": {
             "field": "prec_1",
             "type": "quantitative"
            }
           },
           "mark": {
            "color": "red",
            "type": "rule"
           }
          }
         ],
         "width": 500
        },
        {
         "layer": [
          {
           "data": {
            "url": "http://localhost:20264/5870d734101725cf9aae471656d70c80.json"
           },
           "encoding": {
            "color": {
             "field": "loc",
             "legend": null,
             "type": "nominal"
            },
            "x": {
             "field": "loc",
             "title": "Site Location",
             "type": "nominal"
            },
            "y": {
             "field": "precision_0",
             "title": "Precision of prediction of weeks without sap flow",
             "type": "quantitative"
            }
           },
           "mark": "boxplot"
          },
          {
           "data": {
            "url": "http://localhost:20264/0b413c603de6abb7ee2cbb78f2cf6ff0.json"
           },
           "encoding": {
            "y": {
             "field": "prec_0",
             "type": "quantitative"
            }
           },
           "mark": {
            "color": "red",
            "type": "rule"
           }
          }
         ],
         "width": 500
        }
       ]
      },
      "image/png": "[encoded data removed]",
      "text/plain": [
       "<VegaLite 4 object>\n",
       "\n",
       "If you see this message, it means the renderer has not been properly enabled\n",
       "for the frontend that you are using. For more information, see\n",
       "https://altair-viz.github.io/user_guide/troubleshooting.html\n"
      ]
     },
     "execution_count": 77,
     "metadata": {},
     "output_type": "execute_result"
    }
   ],
   "source": [
    "# Generate plots showing prediction precision by site (red lines for comparison to precision reported by Houle et al., 2015\n",
    "\n",
    "prec_1_plt = (\n",
    "    alt.Chart(houle_summary)\n",
    "    .mark_boxplot()\n",
    "    .encode(\n",
    "        y=alt.Y(\"precision_1\", title=\"Precision of prediction of weeks with sap flow\"),\n",
    "        x=alt.X(\"loc\", title=\"Site Location\"),\n",
    "        color = alt.Color(\"loc\", legend=None)\n",
    "    )\n",
    ")\n",
    "prec_0_plt = (\n",
    "    alt.Chart(houle_summary)\n",
    "    .mark_boxplot()\n",
    "    .encode(\n",
    "        y=alt.Y(\n",
    "            \"precision_0\", title=\"Precision of prediction of weeks without sap flow\"\n",
    "        ),\n",
    "        x=alt.X(\"loc\", title=\"Site Location\"),\n",
    "        color = alt.Color(\"loc\", legend=None)\n",
    "    )\n",
    ")\n",
    "\n",
    "houle_means = pd.DataFrame({\"prec_1\": [0.83], \"prec_0\": [0.95]})\n",
    "\n",
    "prec_0_plt = prec_0_plt + alt.Chart(houle_means).mark_rule(color=\"red\").encode(\n",
    "    y=\"prec_0\"\n",
    ")\n",
    "prec_1_plt = prec_1_plt + alt.Chart(houle_means).mark_rule(color=\"red\").encode(\n",
    "    y=\"prec_1\"\n",
    ")\n",
    "\n",
    "width = 500\n",
    "(prec_1_plt.properties(width=width) | prec_0_plt.properties(width=width))"
   ]
  },
  {
   "cell_type": "code",
   "execution_count": 18,
   "metadata": {},
   "outputs": [
    {
     "name": "stderr",
     "output_type": "stream",
     "text": [
      "<ipython-input-18-82f500f94139>:8: SettingWithCopyWarning: \n",
      "A value is trying to be set on a copy of a slice from a DataFrame.\n",
      "Try using .loc[row_indexer,col_indexer] = value instead\n",
      "\n",
      "See the caveats in the documentation: https://pandas.pydata.org/pandas-docs/stable/user_guide/indexing.html#returning-a-view-versus-a-copy\n",
      "  sample_sigmoid['prediction'] = sample_sigmoid.apply(\n"
     ]
    },
    {
     "data": {
      "application/vnd.vegalite.v4+json": {
       "$schema": "https://vega.github.io/schema/vega-lite/v4.8.1.json",
       "config": {
        "view": {
         "continuousHeight": 300,
         "continuousWidth": 400
        }
       },
       "data": {
        "url": "http://localhost:20264/1eae7dbf33f0c294d7345709713a64ca.json"
       },
       "encoding": {
        "fill": {
         "field": "prediction",
         "scale": {
          "domain": [
           "Correct",
           "Incorrect"
          ],
          "range": [
           "black",
           "red"
          ]
         },
         "title": "Prediction",
         "type": "nominal"
        },
        "x": {
         "field": "jd",
         "title": "Day of year",
         "type": "quantitative"
        },
        "y": {
         "field": "S",
         "title": "Sigmoid function output",
         "type": "quantitative"
        }
       },
       "mark": "circle"
      },
      "image/png": "[encoded data removed]",
      "text/plain": [
       "<VegaLite 4 object>\n",
       "\n",
       "If you see this message, it means the renderer has not been properly enabled\n",
       "for the frontend that you are using. For more information, see\n",
       "https://altair-viz.github.io/user_guide/troubleshooting.html\n"
      ]
     },
     "execution_count": 18,
     "metadata": {},
     "output_type": "execute_result"
    }
   ],
   "source": [
    "# Creates sample plot demonstrating output of sigmoid function over the course of a year.  Correct predictions in orange, incorrect in blue\n",
    "\n",
    "sample_sigmoid = houle2015[\n",
    "    (houle2015.site == \"QC\")\n",
    "    & (houle2015.date_to.dt.year == 2015)\n",
    "    & (houle2015.tap_id == \"QC1A\")\n",
    "]\n",
    "sample_sigmoid['prediction'] = sample_sigmoid.apply(\n",
    "    lambda x: 'Correct' if (x.correct == 1) else 'Incorrect', axis=1\n",
    ")\n",
    "\n",
    "alt.Chart(sample_sigmoid).mark_circle().encode(\n",
    "    alt.X(\"jd\", title=\"Day of year\"),\n",
    "    alt.Y(\"S\", title=\"Sigmoid function output\"),\n",
    "    fill=alt.Fill(\"prediction\", title=\"Prediction\", scale=alt.Scale(\n",
    "            domain=['Correct', 'Incorrect'],\n",
    "            range=['black', 'red'])),\n",
    ")"
   ]
  },
  {
   "cell_type": "code",
   "execution_count": null,
   "metadata": {},
   "outputs": [],
   "source": []
  }
 ],
 "metadata": {
  "kernelspec": {
   "display_name": "Python 3",
   "language": "python",
   "name": "python3"
  },
  "language_info": {
   "codemirror_mode": {
    "name": "ipython",
    "version": 3
   },
   "file_extension": ".py",
   "mimetype": "text/x-python",
   "name": "python",
   "nbconvert_exporter": "python",
   "pygments_lexer": "ipython3",
   "version": "3.8.8"
  }
 },
 "nbformat": 4,
 "nbformat_minor": 4
}
